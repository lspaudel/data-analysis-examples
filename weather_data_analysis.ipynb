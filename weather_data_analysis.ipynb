{
 "cells": [
  {
   "cell_type": "markdown",
   "id": "d4ef1e48-616d-47a0-b15c-a98e7cfd34fa",
   "metadata": {},
   "source": [
    "# The Weather Time Series Dataset\n",
    "\n",
    "## Overview\n",
    "This dataset provides hourly weather information for a specific location. It encompasses various meteorological parameters, including:\n",
    "\n",
    "- Temperature\n",
    "- Dew point temperature\n",
    "- Relative humidity\n",
    "- Wind speed\n",
    "- Visibility\n",
    "- Atmospheric pressure\n",
    "- General weather conditions\n",
    "\n",
    "The data is stored in CSV format, making it ideal for analysis using the Pandas library in Python.\n",
    "\n",
    "## Analytical Approach\n",
    "Our examination of this dataset will follow these steps:\n",
    "\n",
    "1. **Library Integration:** We'll begin by importing the necessary Python libraries.\n",
    "\n",
    "2. **Data Exploration:** We'll delve into the dataset to understand its structure and contents.\n",
    "\n",
    "3. **Analytical Queries:** We'll address several data analytics questions to extract meaningful insights from the weather information.\n",
    "\n",
    "This process will allow us to find patterns, trends, and correlations within the hourly weather data.\n"
   ]
  },
  {
   "cell_type": "code",
   "execution_count": 1,
   "id": "b4e165ff-48dd-44a8-a590-d84c894cbc60",
   "metadata": {},
   "outputs": [],
   "source": [
    "# import library\n",
    "import pandas as pd\n",
    "import numpy as np\n",
    "import seaborn as sns\n",
    "import matplotlib.pyplot as plt"
   ]
  },
  {
   "cell_type": "code",
   "execution_count": 2,
   "id": "d74e3d67-5a0f-481c-8b70-ff63f7a38bf3",
   "metadata": {},
   "outputs": [],
   "source": [
    "# Load dataset\n",
    "df=pd.read_csv(\"./weatherHistory.csv\")"
   ]
  },
  {
   "cell_type": "code",
   "execution_count": 3,
   "id": "04e8319a-27c4-402a-92ba-a9dee3af0b74",
   "metadata": {},
   "outputs": [
    {
     "data": {
      "text/html": [
       "<div>\n",
       "<style scoped>\n",
       "    .dataframe tbody tr th:only-of-type {\n",
       "        vertical-align: middle;\n",
       "    }\n",
       "\n",
       "    .dataframe tbody tr th {\n",
       "        vertical-align: top;\n",
       "    }\n",
       "\n",
       "    .dataframe thead th {\n",
       "        text-align: right;\n",
       "    }\n",
       "</style>\n",
       "<table border=\"1\" class=\"dataframe\">\n",
       "  <thead>\n",
       "    <tr style=\"text-align: right;\">\n",
       "      <th></th>\n",
       "      <th>Formatted Date</th>\n",
       "      <th>Summary</th>\n",
       "      <th>Precip Type</th>\n",
       "      <th>Temperature (C)</th>\n",
       "      <th>Apparent Temperature (C)</th>\n",
       "      <th>Humidity</th>\n",
       "      <th>Wind Speed (km/h)</th>\n",
       "      <th>Wind Bearing (degrees)</th>\n",
       "      <th>Visibility (km)</th>\n",
       "      <th>Loud Cover</th>\n",
       "      <th>Pressure (millibars)</th>\n",
       "      <th>Daily Summary</th>\n",
       "    </tr>\n",
       "  </thead>\n",
       "  <tbody>\n",
       "    <tr>\n",
       "      <th>0</th>\n",
       "      <td>2006-04-01 00:00:00.000 +0200</td>\n",
       "      <td>Partly Cloudy</td>\n",
       "      <td>rain</td>\n",
       "      <td>9.472222</td>\n",
       "      <td>7.388889</td>\n",
       "      <td>0.89</td>\n",
       "      <td>14.1197</td>\n",
       "      <td>251.0</td>\n",
       "      <td>15.8263</td>\n",
       "      <td>0.0</td>\n",
       "      <td>1015.13</td>\n",
       "      <td>Partly cloudy throughout the day.</td>\n",
       "    </tr>\n",
       "    <tr>\n",
       "      <th>1</th>\n",
       "      <td>2006-04-01 01:00:00.000 +0200</td>\n",
       "      <td>Partly Cloudy</td>\n",
       "      <td>rain</td>\n",
       "      <td>9.355556</td>\n",
       "      <td>7.227778</td>\n",
       "      <td>0.86</td>\n",
       "      <td>14.2646</td>\n",
       "      <td>259.0</td>\n",
       "      <td>15.8263</td>\n",
       "      <td>0.0</td>\n",
       "      <td>1015.63</td>\n",
       "      <td>Partly cloudy throughout the day.</td>\n",
       "    </tr>\n",
       "    <tr>\n",
       "      <th>2</th>\n",
       "      <td>2006-04-01 02:00:00.000 +0200</td>\n",
       "      <td>Mostly Cloudy</td>\n",
       "      <td>rain</td>\n",
       "      <td>9.377778</td>\n",
       "      <td>9.377778</td>\n",
       "      <td>0.89</td>\n",
       "      <td>3.9284</td>\n",
       "      <td>204.0</td>\n",
       "      <td>14.9569</td>\n",
       "      <td>0.0</td>\n",
       "      <td>1015.94</td>\n",
       "      <td>Partly cloudy throughout the day.</td>\n",
       "    </tr>\n",
       "    <tr>\n",
       "      <th>3</th>\n",
       "      <td>2006-04-01 03:00:00.000 +0200</td>\n",
       "      <td>Partly Cloudy</td>\n",
       "      <td>rain</td>\n",
       "      <td>8.288889</td>\n",
       "      <td>5.944444</td>\n",
       "      <td>0.83</td>\n",
       "      <td>14.1036</td>\n",
       "      <td>269.0</td>\n",
       "      <td>15.8263</td>\n",
       "      <td>0.0</td>\n",
       "      <td>1016.41</td>\n",
       "      <td>Partly cloudy throughout the day.</td>\n",
       "    </tr>\n",
       "    <tr>\n",
       "      <th>4</th>\n",
       "      <td>2006-04-01 04:00:00.000 +0200</td>\n",
       "      <td>Mostly Cloudy</td>\n",
       "      <td>rain</td>\n",
       "      <td>8.755556</td>\n",
       "      <td>6.977778</td>\n",
       "      <td>0.83</td>\n",
       "      <td>11.0446</td>\n",
       "      <td>259.0</td>\n",
       "      <td>15.8263</td>\n",
       "      <td>0.0</td>\n",
       "      <td>1016.51</td>\n",
       "      <td>Partly cloudy throughout the day.</td>\n",
       "    </tr>\n",
       "    <tr>\n",
       "      <th>5</th>\n",
       "      <td>2006-04-01 05:00:00.000 +0200</td>\n",
       "      <td>Partly Cloudy</td>\n",
       "      <td>rain</td>\n",
       "      <td>9.222222</td>\n",
       "      <td>7.111111</td>\n",
       "      <td>0.85</td>\n",
       "      <td>13.9587</td>\n",
       "      <td>258.0</td>\n",
       "      <td>14.9569</td>\n",
       "      <td>0.0</td>\n",
       "      <td>1016.66</td>\n",
       "      <td>Partly cloudy throughout the day.</td>\n",
       "    </tr>\n",
       "    <tr>\n",
       "      <th>6</th>\n",
       "      <td>2006-04-01 06:00:00.000 +0200</td>\n",
       "      <td>Partly Cloudy</td>\n",
       "      <td>rain</td>\n",
       "      <td>7.733333</td>\n",
       "      <td>5.522222</td>\n",
       "      <td>0.95</td>\n",
       "      <td>12.3648</td>\n",
       "      <td>259.0</td>\n",
       "      <td>9.9820</td>\n",
       "      <td>0.0</td>\n",
       "      <td>1016.72</td>\n",
       "      <td>Partly cloudy throughout the day.</td>\n",
       "    </tr>\n",
       "    <tr>\n",
       "      <th>7</th>\n",
       "      <td>2006-04-01 07:00:00.000 +0200</td>\n",
       "      <td>Partly Cloudy</td>\n",
       "      <td>rain</td>\n",
       "      <td>8.772222</td>\n",
       "      <td>6.527778</td>\n",
       "      <td>0.89</td>\n",
       "      <td>14.1519</td>\n",
       "      <td>260.0</td>\n",
       "      <td>9.9820</td>\n",
       "      <td>0.0</td>\n",
       "      <td>1016.84</td>\n",
       "      <td>Partly cloudy throughout the day.</td>\n",
       "    </tr>\n",
       "    <tr>\n",
       "      <th>8</th>\n",
       "      <td>2006-04-01 08:00:00.000 +0200</td>\n",
       "      <td>Partly Cloudy</td>\n",
       "      <td>rain</td>\n",
       "      <td>10.822222</td>\n",
       "      <td>10.822222</td>\n",
       "      <td>0.82</td>\n",
       "      <td>11.3183</td>\n",
       "      <td>259.0</td>\n",
       "      <td>9.9820</td>\n",
       "      <td>0.0</td>\n",
       "      <td>1017.37</td>\n",
       "      <td>Partly cloudy throughout the day.</td>\n",
       "    </tr>\n",
       "    <tr>\n",
       "      <th>9</th>\n",
       "      <td>2006-04-01 09:00:00.000 +0200</td>\n",
       "      <td>Partly Cloudy</td>\n",
       "      <td>rain</td>\n",
       "      <td>13.772222</td>\n",
       "      <td>13.772222</td>\n",
       "      <td>0.72</td>\n",
       "      <td>12.5258</td>\n",
       "      <td>279.0</td>\n",
       "      <td>9.9820</td>\n",
       "      <td>0.0</td>\n",
       "      <td>1017.22</td>\n",
       "      <td>Partly cloudy throughout the day.</td>\n",
       "    </tr>\n",
       "  </tbody>\n",
       "</table>\n",
       "</div>"
      ],
      "text/plain": [
       "                  Formatted Date        Summary Precip Type  Temperature (C)  \\\n",
       "0  2006-04-01 00:00:00.000 +0200  Partly Cloudy        rain         9.472222   \n",
       "1  2006-04-01 01:00:00.000 +0200  Partly Cloudy        rain         9.355556   \n",
       "2  2006-04-01 02:00:00.000 +0200  Mostly Cloudy        rain         9.377778   \n",
       "3  2006-04-01 03:00:00.000 +0200  Partly Cloudy        rain         8.288889   \n",
       "4  2006-04-01 04:00:00.000 +0200  Mostly Cloudy        rain         8.755556   \n",
       "5  2006-04-01 05:00:00.000 +0200  Partly Cloudy        rain         9.222222   \n",
       "6  2006-04-01 06:00:00.000 +0200  Partly Cloudy        rain         7.733333   \n",
       "7  2006-04-01 07:00:00.000 +0200  Partly Cloudy        rain         8.772222   \n",
       "8  2006-04-01 08:00:00.000 +0200  Partly Cloudy        rain        10.822222   \n",
       "9  2006-04-01 09:00:00.000 +0200  Partly Cloudy        rain        13.772222   \n",
       "\n",
       "   Apparent Temperature (C)  Humidity  Wind Speed (km/h)  \\\n",
       "0                  7.388889      0.89            14.1197   \n",
       "1                  7.227778      0.86            14.2646   \n",
       "2                  9.377778      0.89             3.9284   \n",
       "3                  5.944444      0.83            14.1036   \n",
       "4                  6.977778      0.83            11.0446   \n",
       "5                  7.111111      0.85            13.9587   \n",
       "6                  5.522222      0.95            12.3648   \n",
       "7                  6.527778      0.89            14.1519   \n",
       "8                 10.822222      0.82            11.3183   \n",
       "9                 13.772222      0.72            12.5258   \n",
       "\n",
       "   Wind Bearing (degrees)  Visibility (km)  Loud Cover  Pressure (millibars)  \\\n",
       "0                   251.0          15.8263         0.0               1015.13   \n",
       "1                   259.0          15.8263         0.0               1015.63   \n",
       "2                   204.0          14.9569         0.0               1015.94   \n",
       "3                   269.0          15.8263         0.0               1016.41   \n",
       "4                   259.0          15.8263         0.0               1016.51   \n",
       "5                   258.0          14.9569         0.0               1016.66   \n",
       "6                   259.0           9.9820         0.0               1016.72   \n",
       "7                   260.0           9.9820         0.0               1016.84   \n",
       "8                   259.0           9.9820         0.0               1017.37   \n",
       "9                   279.0           9.9820         0.0               1017.22   \n",
       "\n",
       "                       Daily Summary  \n",
       "0  Partly cloudy throughout the day.  \n",
       "1  Partly cloudy throughout the day.  \n",
       "2  Partly cloudy throughout the day.  \n",
       "3  Partly cloudy throughout the day.  \n",
       "4  Partly cloudy throughout the day.  \n",
       "5  Partly cloudy throughout the day.  \n",
       "6  Partly cloudy throughout the day.  \n",
       "7  Partly cloudy throughout the day.  \n",
       "8  Partly cloudy throughout the day.  \n",
       "9  Partly cloudy throughout the day.  "
      ]
     },
     "execution_count": 3,
     "metadata": {},
     "output_type": "execute_result"
    }
   ],
   "source": [
    "# lets display first ten rows from the dataset\n",
    "df.head(10)"
   ]
  },
  {
   "cell_type": "code",
   "execution_count": 4,
   "id": "b8f0aaef-ac94-442e-8ccd-9f2ccc41d155",
   "metadata": {},
   "outputs": [
    {
     "data": {
      "text/html": [
       "<div>\n",
       "<style scoped>\n",
       "    .dataframe tbody tr th:only-of-type {\n",
       "        vertical-align: middle;\n",
       "    }\n",
       "\n",
       "    .dataframe tbody tr th {\n",
       "        vertical-align: top;\n",
       "    }\n",
       "\n",
       "    .dataframe thead th {\n",
       "        text-align: right;\n",
       "    }\n",
       "</style>\n",
       "<table border=\"1\" class=\"dataframe\">\n",
       "  <thead>\n",
       "    <tr style=\"text-align: right;\">\n",
       "      <th></th>\n",
       "      <th>Formatted Date</th>\n",
       "      <th>Summary</th>\n",
       "      <th>Precip Type</th>\n",
       "      <th>Temperature (C)</th>\n",
       "      <th>Apparent Temperature (C)</th>\n",
       "      <th>Humidity</th>\n",
       "      <th>Wind Speed (km/h)</th>\n",
       "      <th>Wind Bearing (degrees)</th>\n",
       "      <th>Visibility (km)</th>\n",
       "      <th>Loud Cover</th>\n",
       "      <th>Pressure (millibars)</th>\n",
       "      <th>Daily Summary</th>\n",
       "    </tr>\n",
       "  </thead>\n",
       "  <tbody>\n",
       "    <tr>\n",
       "      <th>96448</th>\n",
       "      <td>2016-09-09 19:00:00.000 +0200</td>\n",
       "      <td>Partly Cloudy</td>\n",
       "      <td>rain</td>\n",
       "      <td>26.016667</td>\n",
       "      <td>26.016667</td>\n",
       "      <td>0.43</td>\n",
       "      <td>10.9963</td>\n",
       "      <td>31.0</td>\n",
       "      <td>16.1000</td>\n",
       "      <td>0.0</td>\n",
       "      <td>1014.36</td>\n",
       "      <td>Partly cloudy starting in the morning.</td>\n",
       "    </tr>\n",
       "    <tr>\n",
       "      <th>96449</th>\n",
       "      <td>2016-09-09 20:00:00.000 +0200</td>\n",
       "      <td>Partly Cloudy</td>\n",
       "      <td>rain</td>\n",
       "      <td>24.583333</td>\n",
       "      <td>24.583333</td>\n",
       "      <td>0.48</td>\n",
       "      <td>10.0947</td>\n",
       "      <td>20.0</td>\n",
       "      <td>15.5526</td>\n",
       "      <td>0.0</td>\n",
       "      <td>1015.16</td>\n",
       "      <td>Partly cloudy starting in the morning.</td>\n",
       "    </tr>\n",
       "    <tr>\n",
       "      <th>96450</th>\n",
       "      <td>2016-09-09 21:00:00.000 +0200</td>\n",
       "      <td>Partly Cloudy</td>\n",
       "      <td>rain</td>\n",
       "      <td>22.038889</td>\n",
       "      <td>22.038889</td>\n",
       "      <td>0.56</td>\n",
       "      <td>8.9838</td>\n",
       "      <td>30.0</td>\n",
       "      <td>16.1000</td>\n",
       "      <td>0.0</td>\n",
       "      <td>1015.66</td>\n",
       "      <td>Partly cloudy starting in the morning.</td>\n",
       "    </tr>\n",
       "    <tr>\n",
       "      <th>96451</th>\n",
       "      <td>2016-09-09 22:00:00.000 +0200</td>\n",
       "      <td>Partly Cloudy</td>\n",
       "      <td>rain</td>\n",
       "      <td>21.522222</td>\n",
       "      <td>21.522222</td>\n",
       "      <td>0.60</td>\n",
       "      <td>10.5294</td>\n",
       "      <td>20.0</td>\n",
       "      <td>16.1000</td>\n",
       "      <td>0.0</td>\n",
       "      <td>1015.95</td>\n",
       "      <td>Partly cloudy starting in the morning.</td>\n",
       "    </tr>\n",
       "    <tr>\n",
       "      <th>96452</th>\n",
       "      <td>2016-09-09 23:00:00.000 +0200</td>\n",
       "      <td>Partly Cloudy</td>\n",
       "      <td>rain</td>\n",
       "      <td>20.438889</td>\n",
       "      <td>20.438889</td>\n",
       "      <td>0.61</td>\n",
       "      <td>5.8765</td>\n",
       "      <td>39.0</td>\n",
       "      <td>15.5204</td>\n",
       "      <td>0.0</td>\n",
       "      <td>1016.16</td>\n",
       "      <td>Partly cloudy starting in the morning.</td>\n",
       "    </tr>\n",
       "  </tbody>\n",
       "</table>\n",
       "</div>"
      ],
      "text/plain": [
       "                      Formatted Date        Summary Precip Type  \\\n",
       "96448  2016-09-09 19:00:00.000 +0200  Partly Cloudy        rain   \n",
       "96449  2016-09-09 20:00:00.000 +0200  Partly Cloudy        rain   \n",
       "96450  2016-09-09 21:00:00.000 +0200  Partly Cloudy        rain   \n",
       "96451  2016-09-09 22:00:00.000 +0200  Partly Cloudy        rain   \n",
       "96452  2016-09-09 23:00:00.000 +0200  Partly Cloudy        rain   \n",
       "\n",
       "       Temperature (C)  Apparent Temperature (C)  Humidity  Wind Speed (km/h)  \\\n",
       "96448        26.016667                 26.016667      0.43            10.9963   \n",
       "96449        24.583333                 24.583333      0.48            10.0947   \n",
       "96450        22.038889                 22.038889      0.56             8.9838   \n",
       "96451        21.522222                 21.522222      0.60            10.5294   \n",
       "96452        20.438889                 20.438889      0.61             5.8765   \n",
       "\n",
       "       Wind Bearing (degrees)  Visibility (km)  Loud Cover  \\\n",
       "96448                    31.0          16.1000         0.0   \n",
       "96449                    20.0          15.5526         0.0   \n",
       "96450                    30.0          16.1000         0.0   \n",
       "96451                    20.0          16.1000         0.0   \n",
       "96452                    39.0          15.5204         0.0   \n",
       "\n",
       "       Pressure (millibars)                           Daily Summary  \n",
       "96448               1014.36  Partly cloudy starting in the morning.  \n",
       "96449               1015.16  Partly cloudy starting in the morning.  \n",
       "96450               1015.66  Partly cloudy starting in the morning.  \n",
       "96451               1015.95  Partly cloudy starting in the morning.  \n",
       "96452               1016.16  Partly cloudy starting in the morning.  "
      ]
     },
     "execution_count": 4,
     "metadata": {},
     "output_type": "execute_result"
    }
   ],
   "source": [
    "df.tail() # displays the last 5 rows (by default) from the dataset"
   ]
  },
  {
   "cell_type": "code",
   "execution_count": 5,
   "id": "19dfae15-cb91-49f6-935a-121ecca5f565",
   "metadata": {},
   "outputs": [
    {
     "data": {
      "text/plain": [
       "(96453, 12)"
      ]
     },
     "execution_count": 5,
     "metadata": {},
     "output_type": "execute_result"
    }
   ],
   "source": [
    "# displays the total number of rows and columns of the dataframe.\n",
    "df.shape"
   ]
  },
  {
   "cell_type": "code",
   "execution_count": 6,
   "id": "ffe26b50-62b0-4202-9655-d331c3cd4e42",
   "metadata": {},
   "outputs": [
    {
     "data": {
      "text/plain": [
       "RangeIndex(start=0, stop=96453, step=1)"
      ]
     },
     "execution_count": 6,
     "metadata": {},
     "output_type": "execute_result"
    }
   ],
   "source": [
    "# provide the index of the dataframe\n",
    "df.index"
   ]
  },
  {
   "cell_type": "code",
   "execution_count": 7,
   "id": "ced2cd0d-782b-46c9-b3f6-91a54c41cd5e",
   "metadata": {},
   "outputs": [
    {
     "data": {
      "text/plain": [
       "Index(['Formatted Date', 'Summary', 'Precip Type', 'Temperature (C)',\n",
       "       'Apparent Temperature (C)', 'Humidity', 'Wind Speed (km/h)',\n",
       "       'Wind Bearing (degrees)', 'Visibility (km)', 'Loud Cover',\n",
       "       'Pressure (millibars)', 'Daily Summary'],\n",
       "      dtype='object')"
      ]
     },
     "execution_count": 7,
     "metadata": {},
     "output_type": "execute_result"
    }
   ],
   "source": [
    "#display the name of each columns\n",
    "df.columns"
   ]
  },
  {
   "cell_type": "code",
   "execution_count": 8,
   "id": "5b98649f-6a8c-4beb-98c0-da14eac63406",
   "metadata": {},
   "outputs": [
    {
     "data": {
      "text/plain": [
       "Formatted Date               object\n",
       "Summary                      object\n",
       "Precip Type                  object\n",
       "Temperature (C)             float64\n",
       "Apparent Temperature (C)    float64\n",
       "Humidity                    float64\n",
       "Wind Speed (km/h)           float64\n",
       "Wind Bearing (degrees)      float64\n",
       "Visibility (km)             float64\n",
       "Loud Cover                  float64\n",
       "Pressure (millibars)        float64\n",
       "Daily Summary                object\n",
       "dtype: object"
      ]
     },
     "execution_count": 8,
     "metadata": {},
     "output_type": "execute_result"
    }
   ],
   "source": [
    "# display the datatypes of each column.\n",
    "df.dtypes"
   ]
  },
  {
   "cell_type": "code",
   "execution_count": 9,
   "id": "8120641d-72bd-42ce-9856-65acc96dece9",
   "metadata": {},
   "outputs": [
    {
     "data": {
      "text/plain": [
       "array([0.89, 0.86, 0.83, 0.85, 0.95, 0.82, 0.72, 0.67, 0.54, 0.55, 0.51,\n",
       "       0.47, 0.46, 0.6 , 0.63, 0.69, 0.7 , 0.77, 0.76, 0.79, 0.62, 0.66,\n",
       "       0.8 , 0.78, 0.61, 0.52, 0.4 , 0.37, 0.36, 0.43, 0.5 , 0.53, 0.58,\n",
       "       0.59, 0.87, 0.93, 0.84, 0.73, 0.71, 0.74, 0.81, 0.9 , 0.99, 0.96,\n",
       "       0.75, 0.88, 0.65, 0.91, 0.94, 0.92, 0.44, 0.56, 0.68, 0.64, 0.48,\n",
       "       0.57, 0.98, 1.  , 0.38, 0.41, 0.45, 0.49, 0.32, 0.42, 0.35, 0.39,\n",
       "       0.97, 0.34, 0.33, 0.31, 0.3 , 0.29, 0.27, 0.28, 0.26, 0.24, 0.25,\n",
       "       0.23, 0.19, 0.17, 0.2 , 0.15, 0.18, 0.22, 0.14, 0.21, 0.16, 0.13,\n",
       "       0.  , 0.12])"
      ]
     },
     "execution_count": 9,
     "metadata": {},
     "output_type": "execute_result"
    }
   ],
   "source": [
    "# lets display alll the unique values. It can be applied on a sinngle column only, not on the whole dataframe.\n",
    "df['Humidity'].unique()"
   ]
  },
  {
   "cell_type": "code",
   "execution_count": 10,
   "id": "7cb5baa9-30ba-4046-be5e-32a2166b278b",
   "metadata": {},
   "outputs": [
    {
     "data": {
      "text/plain": [
       "array(['Partly Cloudy', 'Mostly Cloudy', 'Overcast', 'Foggy',\n",
       "       'Breezy and Mostly Cloudy', 'Clear', 'Breezy and Partly Cloudy',\n",
       "       'Breezy and Overcast', 'Humid and Mostly Cloudy',\n",
       "       'Humid and Partly Cloudy', 'Windy and Foggy', 'Windy and Overcast',\n",
       "       'Breezy and Foggy', 'Windy and Partly Cloudy', 'Breezy',\n",
       "       'Dry and Partly Cloudy', 'Windy and Mostly Cloudy',\n",
       "       'Dangerously Windy and Partly Cloudy', 'Dry', 'Windy',\n",
       "       'Humid and Overcast', 'Light Rain', 'Drizzle', 'Windy and Dry',\n",
       "       'Dry and Mostly Cloudy', 'Breezy and Dry', 'Rain'], dtype=object)"
      ]
     },
     "execution_count": 10,
     "metadata": {},
     "output_type": "execute_result"
    }
   ],
   "source": [
    "df['Summary'].unique()"
   ]
  },
  {
   "cell_type": "code",
   "execution_count": 11,
   "id": "cc43234c-4671-41df-866f-ce254d74dd2c",
   "metadata": {},
   "outputs": [
    {
     "data": {
      "text/plain": [
       "Formatted Date              96429\n",
       "Summary                        27\n",
       "Precip Type                     2\n",
       "Temperature (C)              7574\n",
       "Apparent Temperature (C)     8984\n",
       "Humidity                       90\n",
       "Wind Speed (km/h)            2484\n",
       "Wind Bearing (degrees)        360\n",
       "Visibility (km)               949\n",
       "Loud Cover                      1\n",
       "Pressure (millibars)         4979\n",
       "Daily Summary                 214\n",
       "dtype: int64"
      ]
     },
     "execution_count": 11,
     "metadata": {},
     "output_type": "execute_result"
    }
   ],
   "source": [
    "# Return Series with number of distinct elements. Can ignore NaN values\n",
    "# (It can be applied on a single column as well as on whole dataframe)\n",
    "df.nunique()"
   ]
  },
  {
   "cell_type": "code",
   "execution_count": 12,
   "id": "4c85cd84-cebd-4293-b675-2342d5beb1ec",
   "metadata": {},
   "outputs": [
    {
     "data": {
      "text/plain": [
       "27"
      ]
     },
     "execution_count": 12,
     "metadata": {},
     "output_type": "execute_result"
    }
   ],
   "source": [
    "df['Summary'].nunique()"
   ]
  },
  {
   "cell_type": "code",
   "execution_count": 13,
   "id": "6724659d-9d6e-4409-9c67-fd0703703def",
   "metadata": {},
   "outputs": [
    {
     "data": {
      "text/plain": [
       "Formatted Date              96453\n",
       "Summary                     96453\n",
       "Precip Type                 95936\n",
       "Temperature (C)             96453\n",
       "Apparent Temperature (C)    96453\n",
       "Humidity                    96453\n",
       "Wind Speed (km/h)           96453\n",
       "Wind Bearing (degrees)      96453\n",
       "Visibility (km)             96453\n",
       "Loud Cover                  96453\n",
       "Pressure (millibars)        96453\n",
       "Daily Summary               96453\n",
       "dtype: int64"
      ]
     },
     "execution_count": 13,
     "metadata": {},
     "output_type": "execute_result"
    }
   ],
   "source": [
    "# Showing the total no. of non-null values in each column. It can be applied on a single column as well as whole dataframe.\n",
    "df.count()"
   ]
  },
  {
   "cell_type": "code",
   "execution_count": 14,
   "id": "93ed12ba-feab-465d-a8ac-7df2ac619cfd",
   "metadata": {},
   "outputs": [
    {
     "data": {
      "text/plain": [
       "Formatted Date                0\n",
       "Summary                       0\n",
       "Precip Type                 517\n",
       "Temperature (C)               0\n",
       "Apparent Temperature (C)      0\n",
       "Humidity                      0\n",
       "Wind Speed (km/h)             0\n",
       "Wind Bearing (degrees)        0\n",
       "Visibility (km)               0\n",
       "Loud Cover                    0\n",
       "Pressure (millibars)          0\n",
       "Daily Summary                 0\n",
       "dtype: int64"
      ]
     },
     "execution_count": 14,
     "metadata": {},
     "output_type": "execute_result"
    }
   ],
   "source": [
    "df.isna().sum()"
   ]
  },
  {
   "cell_type": "code",
   "execution_count": 15,
   "id": "c1ee60c1-f321-44de-96bb-9740dcc884e5",
   "metadata": {},
   "outputs": [
    {
     "data": {
      "text/plain": [
       "Formatted Date                0\n",
       "Summary                       0\n",
       "Precip Type                 517\n",
       "Temperature (C)               0\n",
       "Apparent Temperature (C)      0\n",
       "Humidity                      0\n",
       "Wind Speed (km/h)             0\n",
       "Wind Bearing (degrees)        0\n",
       "Visibility (km)               0\n",
       "Loud Cover                    0\n",
       "Pressure (millibars)          0\n",
       "Daily Summary                 0\n",
       "dtype: int64"
      ]
     },
     "execution_count": 15,
     "metadata": {},
     "output_type": "execute_result"
    }
   ],
   "source": [
    "df.isnull().sum()\n",
    "# df.notnull().sum()"
   ]
  },
  {
   "cell_type": "code",
   "execution_count": 16,
   "id": "a32d735b-e8a0-4cd9-abf8-bbd7470e8441",
   "metadata": {},
   "outputs": [],
   "source": [
    "df.dropna(inplace=True) #drop any nan or 0 values from the dataframe"
   ]
  },
  {
   "cell_type": "code",
   "execution_count": 17,
   "id": "43222d91-357d-4bf7-8ee4-e863bf17524d",
   "metadata": {},
   "outputs": [],
   "source": [
    "# adding a column to the dataframe\n",
    "df['random_val']=np.random.randint(100, size = df.shape[0])"
   ]
  },
  {
   "cell_type": "code",
   "execution_count": 18,
   "id": "03f2f709-0d34-491e-a98c-30daffaa1d91",
   "metadata": {},
   "outputs": [
    {
     "data": {
      "text/html": [
       "<div>\n",
       "<style scoped>\n",
       "    .dataframe tbody tr th:only-of-type {\n",
       "        vertical-align: middle;\n",
       "    }\n",
       "\n",
       "    .dataframe tbody tr th {\n",
       "        vertical-align: top;\n",
       "    }\n",
       "\n",
       "    .dataframe thead th {\n",
       "        text-align: right;\n",
       "    }\n",
       "</style>\n",
       "<table border=\"1\" class=\"dataframe\">\n",
       "  <thead>\n",
       "    <tr style=\"text-align: right;\">\n",
       "      <th></th>\n",
       "      <th>Formatted Date</th>\n",
       "      <th>Summary</th>\n",
       "      <th>Precip Type</th>\n",
       "      <th>Temperature (C)</th>\n",
       "      <th>Apparent Temperature (C)</th>\n",
       "      <th>Humidity</th>\n",
       "      <th>Wind Speed (km/h)</th>\n",
       "      <th>Wind Bearing (degrees)</th>\n",
       "      <th>Visibility (km)</th>\n",
       "      <th>Loud Cover</th>\n",
       "      <th>Pressure (millibars)</th>\n",
       "      <th>Daily Summary</th>\n",
       "      <th>random_val</th>\n",
       "    </tr>\n",
       "  </thead>\n",
       "  <tbody>\n",
       "    <tr>\n",
       "      <th>0</th>\n",
       "      <td>2006-04-01 00:00:00.000 +0200</td>\n",
       "      <td>Partly Cloudy</td>\n",
       "      <td>rain</td>\n",
       "      <td>9.472222</td>\n",
       "      <td>7.388889</td>\n",
       "      <td>0.89</td>\n",
       "      <td>14.1197</td>\n",
       "      <td>251.0</td>\n",
       "      <td>15.8263</td>\n",
       "      <td>0.0</td>\n",
       "      <td>1015.13</td>\n",
       "      <td>Partly cloudy throughout the day.</td>\n",
       "      <td>45</td>\n",
       "    </tr>\n",
       "    <tr>\n",
       "      <th>1</th>\n",
       "      <td>2006-04-01 01:00:00.000 +0200</td>\n",
       "      <td>Partly Cloudy</td>\n",
       "      <td>rain</td>\n",
       "      <td>9.355556</td>\n",
       "      <td>7.227778</td>\n",
       "      <td>0.86</td>\n",
       "      <td>14.2646</td>\n",
       "      <td>259.0</td>\n",
       "      <td>15.8263</td>\n",
       "      <td>0.0</td>\n",
       "      <td>1015.63</td>\n",
       "      <td>Partly cloudy throughout the day.</td>\n",
       "      <td>2</td>\n",
       "    </tr>\n",
       "  </tbody>\n",
       "</table>\n",
       "</div>"
      ],
      "text/plain": [
       "                  Formatted Date        Summary Precip Type  Temperature (C)  \\\n",
       "0  2006-04-01 00:00:00.000 +0200  Partly Cloudy        rain         9.472222   \n",
       "1  2006-04-01 01:00:00.000 +0200  Partly Cloudy        rain         9.355556   \n",
       "\n",
       "   Apparent Temperature (C)  Humidity  Wind Speed (km/h)  \\\n",
       "0                  7.388889      0.89            14.1197   \n",
       "1                  7.227778      0.86            14.2646   \n",
       "\n",
       "   Wind Bearing (degrees)  Visibility (km)  Loud Cover  Pressure (millibars)  \\\n",
       "0                   251.0          15.8263         0.0               1015.13   \n",
       "1                   259.0          15.8263         0.0               1015.63   \n",
       "\n",
       "                       Daily Summary  random_val  \n",
       "0  Partly cloudy throughout the day.          45  \n",
       "1  Partly cloudy throughout the day.           2  "
      ]
     },
     "execution_count": 18,
     "metadata": {},
     "output_type": "execute_result"
    }
   ],
   "source": [
    "df.head(2)"
   ]
  },
  {
   "cell_type": "code",
   "execution_count": 19,
   "id": "2c7dcd6c-1ace-45c6-a950-1698f5d958c8",
   "metadata": {},
   "outputs": [
    {
     "data": {
      "text/plain": [
       "Index(['Formatted Date', 'Summary', 'Precip Type', 'Temperature (C)',\n",
       "       'Apparent Temperature (C)', 'Humidity', 'Wind Speed (km/h)',\n",
       "       'Wind Bearing (degrees)', 'Visibility (km)', 'Loud Cover',\n",
       "       'Pressure (millibars)', 'Daily Summary', 'random_val'],\n",
       "      dtype='object')"
      ]
     },
     "execution_count": 19,
     "metadata": {},
     "output_type": "execute_result"
    }
   ],
   "source": [
    "df.columns"
   ]
  },
  {
   "cell_type": "code",
   "execution_count": 20,
   "id": "b31f335f-d6c1-482e-85af-6097e33a8b73",
   "metadata": {},
   "outputs": [
    {
     "data": {
      "text/html": [
       "<div>\n",
       "<style scoped>\n",
       "    .dataframe tbody tr th:only-of-type {\n",
       "        vertical-align: middle;\n",
       "    }\n",
       "\n",
       "    .dataframe tbody tr th {\n",
       "        vertical-align: top;\n",
       "    }\n",
       "\n",
       "    .dataframe thead th {\n",
       "        text-align: right;\n",
       "    }\n",
       "</style>\n",
       "<table border=\"1\" class=\"dataframe\">\n",
       "  <thead>\n",
       "    <tr style=\"text-align: right;\">\n",
       "      <th></th>\n",
       "      <th>Formatted Date</th>\n",
       "      <th>Summary</th>\n",
       "      <th>Precip Type</th>\n",
       "      <th>Temperature (C)</th>\n",
       "      <th>Apparent Temperature (C)</th>\n",
       "      <th>Humidity</th>\n",
       "      <th>Wind Speed (km/h)</th>\n",
       "      <th>Wind Bearing (degrees)</th>\n",
       "      <th>Visibility (km)</th>\n",
       "      <th>Loud Cover</th>\n",
       "      <th>Pressure (millibars)</th>\n",
       "      <th>Daily Summary</th>\n",
       "      <th>random_val</th>\n",
       "    </tr>\n",
       "  </thead>\n",
       "  <tbody>\n",
       "    <tr>\n",
       "      <th>0</th>\n",
       "      <td>2006-04-01 00:00:00.000 +0200</td>\n",
       "      <td>Partly Cloudy</td>\n",
       "      <td>rain</td>\n",
       "      <td>9.472222</td>\n",
       "      <td>7.388889</td>\n",
       "      <td>0.89</td>\n",
       "      <td>14.1197</td>\n",
       "      <td>251.0</td>\n",
       "      <td>15.8263</td>\n",
       "      <td>0.0</td>\n",
       "      <td>1015.13</td>\n",
       "      <td>Partly cloudy throughout the day.</td>\n",
       "      <td>45</td>\n",
       "    </tr>\n",
       "    <tr>\n",
       "      <th>1</th>\n",
       "      <td>2006-04-01 01:00:00.000 +0200</td>\n",
       "      <td>Partly Cloudy</td>\n",
       "      <td>rain</td>\n",
       "      <td>9.355556</td>\n",
       "      <td>7.227778</td>\n",
       "      <td>0.86</td>\n",
       "      <td>14.2646</td>\n",
       "      <td>259.0</td>\n",
       "      <td>15.8263</td>\n",
       "      <td>0.0</td>\n",
       "      <td>1015.63</td>\n",
       "      <td>Partly cloudy throughout the day.</td>\n",
       "      <td>2</td>\n",
       "    </tr>\n",
       "  </tbody>\n",
       "</table>\n",
       "</div>"
      ],
      "text/plain": [
       "                  Formatted Date        Summary Precip Type  Temperature (C)  \\\n",
       "0  2006-04-01 00:00:00.000 +0200  Partly Cloudy        rain         9.472222   \n",
       "1  2006-04-01 01:00:00.000 +0200  Partly Cloudy        rain         9.355556   \n",
       "\n",
       "   Apparent Temperature (C)  Humidity  Wind Speed (km/h)  \\\n",
       "0                  7.388889      0.89            14.1197   \n",
       "1                  7.227778      0.86            14.2646   \n",
       "\n",
       "   Wind Bearing (degrees)  Visibility (km)  Loud Cover  Pressure (millibars)  \\\n",
       "0                   251.0          15.8263         0.0               1015.13   \n",
       "1                   259.0          15.8263         0.0               1015.63   \n",
       "\n",
       "                       Daily Summary  random_val  \n",
       "0  Partly cloudy throughout the day.          45  \n",
       "1  Partly cloudy throughout the day.           2  "
      ]
     },
     "execution_count": 20,
     "metadata": {},
     "output_type": "execute_result"
    }
   ],
   "source": [
    "df.drop('random_val', axis=1) # does not remove permanently from the dataframe\n",
    "df.head(2)"
   ]
  },
  {
   "cell_type": "code",
   "execution_count": 21,
   "id": "6dffa325-257b-4664-b02b-5a6908b4475b",
   "metadata": {},
   "outputs": [
    {
     "data": {
      "text/html": [
       "<div>\n",
       "<style scoped>\n",
       "    .dataframe tbody tr th:only-of-type {\n",
       "        vertical-align: middle;\n",
       "    }\n",
       "\n",
       "    .dataframe tbody tr th {\n",
       "        vertical-align: top;\n",
       "    }\n",
       "\n",
       "    .dataframe thead th {\n",
       "        text-align: right;\n",
       "    }\n",
       "</style>\n",
       "<table border=\"1\" class=\"dataframe\">\n",
       "  <thead>\n",
       "    <tr style=\"text-align: right;\">\n",
       "      <th></th>\n",
       "      <th>Formatted Date</th>\n",
       "      <th>Summary</th>\n",
       "      <th>Precip Type</th>\n",
       "      <th>Temperature (C)</th>\n",
       "      <th>Apparent Temperature (C)</th>\n",
       "      <th>Humidity</th>\n",
       "      <th>Wind Speed (km/h)</th>\n",
       "      <th>Wind Bearing (degrees)</th>\n",
       "      <th>Visibility (km)</th>\n",
       "      <th>Loud Cover</th>\n",
       "      <th>Pressure (millibars)</th>\n",
       "      <th>Daily Summary</th>\n",
       "    </tr>\n",
       "  </thead>\n",
       "  <tbody>\n",
       "    <tr>\n",
       "      <th>0</th>\n",
       "      <td>2006-04-01 00:00:00.000 +0200</td>\n",
       "      <td>Partly Cloudy</td>\n",
       "      <td>rain</td>\n",
       "      <td>9.472222</td>\n",
       "      <td>7.388889</td>\n",
       "      <td>0.89</td>\n",
       "      <td>14.1197</td>\n",
       "      <td>251.0</td>\n",
       "      <td>15.8263</td>\n",
       "      <td>0.0</td>\n",
       "      <td>1015.13</td>\n",
       "      <td>Partly cloudy throughout the day.</td>\n",
       "    </tr>\n",
       "    <tr>\n",
       "      <th>1</th>\n",
       "      <td>2006-04-01 01:00:00.000 +0200</td>\n",
       "      <td>Partly Cloudy</td>\n",
       "      <td>rain</td>\n",
       "      <td>9.355556</td>\n",
       "      <td>7.227778</td>\n",
       "      <td>0.86</td>\n",
       "      <td>14.2646</td>\n",
       "      <td>259.0</td>\n",
       "      <td>15.8263</td>\n",
       "      <td>0.0</td>\n",
       "      <td>1015.63</td>\n",
       "      <td>Partly cloudy throughout the day.</td>\n",
       "    </tr>\n",
       "  </tbody>\n",
       "</table>\n",
       "</div>"
      ],
      "text/plain": [
       "                  Formatted Date        Summary Precip Type  Temperature (C)  \\\n",
       "0  2006-04-01 00:00:00.000 +0200  Partly Cloudy        rain         9.472222   \n",
       "1  2006-04-01 01:00:00.000 +0200  Partly Cloudy        rain         9.355556   \n",
       "\n",
       "   Apparent Temperature (C)  Humidity  Wind Speed (km/h)  \\\n",
       "0                  7.388889      0.89            14.1197   \n",
       "1                  7.227778      0.86            14.2646   \n",
       "\n",
       "   Wind Bearing (degrees)  Visibility (km)  Loud Cover  Pressure (millibars)  \\\n",
       "0                   251.0          15.8263         0.0               1015.13   \n",
       "1                   259.0          15.8263         0.0               1015.63   \n",
       "\n",
       "                       Daily Summary  \n",
       "0  Partly cloudy throughout the day.  \n",
       "1  Partly cloudy throughout the day.  "
      ]
     },
     "execution_count": 21,
     "metadata": {},
     "output_type": "execute_result"
    }
   ],
   "source": [
    "df.drop('random_val', axis=1, inplace=True) # removes permanently from the dataframe\n",
    "df.head(2)"
   ]
  },
  {
   "cell_type": "code",
   "execution_count": 22,
   "id": "023a8ff7-82d0-4b7e-8620-103aa64a71dc",
   "metadata": {},
   "outputs": [
    {
     "name": "stdout",
     "output_type": "stream",
     "text": [
      "<class 'pandas.core.frame.DataFrame'>\n",
      "Index: 95936 entries, 0 to 96452\n",
      "Data columns (total 12 columns):\n",
      " #   Column                    Non-Null Count  Dtype  \n",
      "---  ------                    --------------  -----  \n",
      " 0   Formatted Date            95936 non-null  object \n",
      " 1   Summary                   95936 non-null  object \n",
      " 2   Precip Type               95936 non-null  object \n",
      " 3   Temperature (C)           95936 non-null  float64\n",
      " 4   Apparent Temperature (C)  95936 non-null  float64\n",
      " 5   Humidity                  95936 non-null  float64\n",
      " 6   Wind Speed (km/h)         95936 non-null  float64\n",
      " 7   Wind Bearing (degrees)    95936 non-null  float64\n",
      " 8   Visibility (km)           95936 non-null  float64\n",
      " 9   Loud Cover                95936 non-null  float64\n",
      " 10  Pressure (millibars)      95936 non-null  float64\n",
      " 11  Daily Summary             95936 non-null  object \n",
      "dtypes: float64(8), object(4)\n",
      "memory usage: 9.5+ MB\n"
     ]
    }
   ],
   "source": [
    "df.info() # it provides basic information about the dataframe"
   ]
  },
  {
   "cell_type": "code",
   "execution_count": 23,
   "id": "44441d1d-262a-4ff8-a010-a7b766e6ca2e",
   "metadata": {},
   "outputs": [],
   "source": [
    "# df.describe() # It generates descriptive statistics"
   ]
  },
  {
   "cell_type": "code",
   "execution_count": 24,
   "id": "b5947503-09be-4d01-a36d-ae599235895d",
   "metadata": {},
   "outputs": [],
   "source": [
    "# precip_counts = df['Precip Type'].value_counts()\n",
    "# precip_counts.plot(kind='bar')\n",
    "# plt.title('Distribution of Precipitation Types')\n",
    "# plt.xlabel('Precipitation Type')\n",
    "# plt.ylabel('Count')\n",
    "# plt.xticks(rotation=45)  \n",
    "# plt.tight_layout()\n",
    "# plt.show()\n"
   ]
  },
  {
   "cell_type": "markdown",
   "id": "4a451f9d-31e5-4540-869f-fd9c52726d4e",
   "metadata": {},
   "source": [
    "#### Q.1 Find all the unique `Wind speed` values in the data."
   ]
  },
  {
   "cell_type": "code",
   "execution_count": 25,
   "id": "d56e472e-7d4d-47cc-a2fe-62c170281059",
   "metadata": {},
   "outputs": [
    {
     "data": {
      "text/plain": [
       "2484"
      ]
     },
     "execution_count": 25,
     "metadata": {},
     "output_type": "execute_result"
    }
   ],
   "source": [
    "df['Wind Speed (km/h)'].nunique() # number of unique values"
   ]
  },
  {
   "cell_type": "code",
   "execution_count": 26,
   "id": "6a95a1e0-5ac4-4714-b229-05096d08fbfd",
   "metadata": {},
   "outputs": [
    {
     "data": {
      "text/plain": [
       "array([14.1197, 14.2646,  3.9284, ..., 37.0622, 35.5971, 30.751 ],\n",
       "      shape=(2484,))"
      ]
     },
     "execution_count": 26,
     "metadata": {},
     "output_type": "execute_result"
    }
   ],
   "source": [
    "df['Wind Speed (km/h)'].unique() # display the unique values"
   ]
  },
  {
   "cell_type": "markdown",
   "id": "1a224b8d-45d2-4d65-ae18-3b97c6b03163",
   "metadata": {},
   "source": [
    "#### Q.2 Find the number of time when the 'Weather summary is clear'."
   ]
  },
  {
   "cell_type": "code",
   "execution_count": 27,
   "id": "98d2646e-cd17-4c74-909e-e8b018d408c2",
   "metadata": {},
   "outputs": [
    {
     "data": {
      "text/plain": [
       "Summary\n",
       "Partly Cloudy                          31635\n",
       "Mostly Cloudy                          27914\n",
       "Overcast                               16516\n",
       "Clear                                  10763\n",
       "Foggy                                   7117\n",
       "Breezy and Overcast                      528\n",
       "Breezy and Mostly Cloudy                 516\n",
       "Breezy and Partly Cloudy                 386\n",
       "Dry and Partly Cloudy                     86\n",
       "Windy and Partly Cloudy                   67\n",
       "Light Rain                                63\n",
       "Breezy                                    54\n",
       "Windy and Overcast                        45\n",
       "Humid and Mostly Cloudy                   40\n",
       "Drizzle                                   39\n",
       "Breezy and Foggy                          35\n",
       "Windy and Mostly Cloudy                   35\n",
       "Dry                                       34\n",
       "Humid and Partly Cloudy                   17\n",
       "Dry and Mostly Cloudy                     14\n",
       "Rain                                      10\n",
       "Windy                                      8\n",
       "Humid and Overcast                         7\n",
       "Windy and Foggy                            4\n",
       "Windy and Dry                              1\n",
       "Dangerously Windy and Partly Cloudy        1\n",
       "Breezy and Dry                             1\n",
       "Name: count, dtype: int64"
      ]
     },
     "execution_count": 27,
     "metadata": {},
     "output_type": "execute_result"
    }
   ],
   "source": [
    "df['Summary'].value_counts() "
   ]
  },
  {
   "cell_type": "code",
   "execution_count": 28,
   "id": "6aa36837-3481-42d0-b1bf-591ccb7af633",
   "metadata": {},
   "outputs": [
    {
     "data": {
      "text/plain": [
       "Formatted Date              10763\n",
       "Summary                     10763\n",
       "Precip Type                 10763\n",
       "Temperature (C)             10763\n",
       "Apparent Temperature (C)    10763\n",
       "Humidity                    10763\n",
       "Wind Speed (km/h)           10763\n",
       "Wind Bearing (degrees)      10763\n",
       "Visibility (km)             10763\n",
       "Loud Cover                  10763\n",
       "Pressure (millibars)        10763\n",
       "Daily Summary               10763\n",
       "dtype: int64"
      ]
     },
     "execution_count": 28,
     "metadata": {},
     "output_type": "execute_result"
    }
   ],
   "source": [
    "df[df['Summary']=='Clear'].count()"
   ]
  },
  {
   "cell_type": "code",
   "execution_count": 29,
   "id": "04ac667a-8c55-4647-8afb-4a1b01f4fb0e",
   "metadata": {},
   "outputs": [
    {
     "data": {
      "text/html": [
       "<div>\n",
       "<style scoped>\n",
       "    .dataframe tbody tr th:only-of-type {\n",
       "        vertical-align: middle;\n",
       "    }\n",
       "\n",
       "    .dataframe tbody tr th {\n",
       "        vertical-align: top;\n",
       "    }\n",
       "\n",
       "    .dataframe thead th {\n",
       "        text-align: right;\n",
       "    }\n",
       "</style>\n",
       "<table border=\"1\" class=\"dataframe\">\n",
       "  <thead>\n",
       "    <tr style=\"text-align: right;\">\n",
       "      <th></th>\n",
       "      <th>Formatted Date</th>\n",
       "      <th>Summary</th>\n",
       "      <th>Precip Type</th>\n",
       "      <th>Temperature (C)</th>\n",
       "      <th>Apparent Temperature (C)</th>\n",
       "      <th>Humidity</th>\n",
       "      <th>Wind Speed (km/h)</th>\n",
       "      <th>Wind Bearing (degrees)</th>\n",
       "      <th>Visibility (km)</th>\n",
       "      <th>Loud Cover</th>\n",
       "      <th>Pressure (millibars)</th>\n",
       "      <th>Daily Summary</th>\n",
       "    </tr>\n",
       "  </thead>\n",
       "  <tbody>\n",
       "    <tr>\n",
       "      <th>223</th>\n",
       "      <td>2006-04-18 07:00:00.000 +0200</td>\n",
       "      <td>Clear</td>\n",
       "      <td>rain</td>\n",
       "      <td>8.688889</td>\n",
       "      <td>8.688889</td>\n",
       "      <td>0.93</td>\n",
       "      <td>1.4329</td>\n",
       "      <td>290.0</td>\n",
       "      <td>5.8443</td>\n",
       "      <td>0.0</td>\n",
       "      <td>1012.96</td>\n",
       "      <td>Partly cloudy until night.</td>\n",
       "    </tr>\n",
       "    <tr>\n",
       "      <th>309</th>\n",
       "      <td>2006-04-20 21:00:00.000 +0200</td>\n",
       "      <td>Clear</td>\n",
       "      <td>rain</td>\n",
       "      <td>12.266667</td>\n",
       "      <td>12.266667</td>\n",
       "      <td>0.99</td>\n",
       "      <td>8.0500</td>\n",
       "      <td>320.0</td>\n",
       "      <td>6.1985</td>\n",
       "      <td>0.0</td>\n",
       "      <td>1015.76</td>\n",
       "      <td>Foggy starting overnight continuing until morn...</td>\n",
       "    </tr>\n",
       "    <tr>\n",
       "      <th>337</th>\n",
       "      <td>2006-04-22 01:00:00.000 +0200</td>\n",
       "      <td>Clear</td>\n",
       "      <td>rain</td>\n",
       "      <td>9.355556</td>\n",
       "      <td>8.633333</td>\n",
       "      <td>0.96</td>\n",
       "      <td>6.4239</td>\n",
       "      <td>321.0</td>\n",
       "      <td>3.3649</td>\n",
       "      <td>0.0</td>\n",
       "      <td>1017.56</td>\n",
       "      <td>Foggy starting overnight continuing until morn...</td>\n",
       "    </tr>\n",
       "    <tr>\n",
       "      <th>338</th>\n",
       "      <td>2006-04-22 02:00:00.000 +0200</td>\n",
       "      <td>Clear</td>\n",
       "      <td>rain</td>\n",
       "      <td>9.861111</td>\n",
       "      <td>9.861111</td>\n",
       "      <td>0.96</td>\n",
       "      <td>3.2361</td>\n",
       "      <td>319.0</td>\n",
       "      <td>4.4597</td>\n",
       "      <td>0.0</td>\n",
       "      <td>1016.16</td>\n",
       "      <td>Foggy starting overnight continuing until morn...</td>\n",
       "    </tr>\n",
       "    <tr>\n",
       "      <th>357</th>\n",
       "      <td>2006-04-22 21:00:00.000 +0200</td>\n",
       "      <td>Clear</td>\n",
       "      <td>rain</td>\n",
       "      <td>12.494444</td>\n",
       "      <td>12.494444</td>\n",
       "      <td>0.91</td>\n",
       "      <td>3.9445</td>\n",
       "      <td>197.0</td>\n",
       "      <td>9.9820</td>\n",
       "      <td>0.0</td>\n",
       "      <td>1015.51</td>\n",
       "      <td>Foggy starting overnight continuing until morn...</td>\n",
       "    </tr>\n",
       "    <tr>\n",
       "      <th>...</th>\n",
       "      <td>...</td>\n",
       "      <td>...</td>\n",
       "      <td>...</td>\n",
       "      <td>...</td>\n",
       "      <td>...</td>\n",
       "      <td>...</td>\n",
       "      <td>...</td>\n",
       "      <td>...</td>\n",
       "      <td>...</td>\n",
       "      <td>...</td>\n",
       "      <td>...</td>\n",
       "      <td>...</td>\n",
       "    </tr>\n",
       "    <tr>\n",
       "      <th>96432</th>\n",
       "      <td>2016-09-09 03:00:00.000 +0200</td>\n",
       "      <td>Clear</td>\n",
       "      <td>rain</td>\n",
       "      <td>15.594444</td>\n",
       "      <td>15.594444</td>\n",
       "      <td>0.87</td>\n",
       "      <td>3.2844</td>\n",
       "      <td>41.0</td>\n",
       "      <td>15.4399</td>\n",
       "      <td>0.0</td>\n",
       "      <td>1014.52</td>\n",
       "      <td>Partly cloudy starting in the morning.</td>\n",
       "    </tr>\n",
       "    <tr>\n",
       "      <th>96433</th>\n",
       "      <td>2016-09-09 04:00:00.000 +0200</td>\n",
       "      <td>Clear</td>\n",
       "      <td>rain</td>\n",
       "      <td>15.011111</td>\n",
       "      <td>15.011111</td>\n",
       "      <td>0.93</td>\n",
       "      <td>3.2039</td>\n",
       "      <td>341.0</td>\n",
       "      <td>15.8263</td>\n",
       "      <td>0.0</td>\n",
       "      <td>1014.37</td>\n",
       "      <td>Partly cloudy starting in the morning.</td>\n",
       "    </tr>\n",
       "    <tr>\n",
       "      <th>96434</th>\n",
       "      <td>2016-09-09 05:00:00.000 +0200</td>\n",
       "      <td>Clear</td>\n",
       "      <td>rain</td>\n",
       "      <td>15.016667</td>\n",
       "      <td>15.016667</td>\n",
       "      <td>0.90</td>\n",
       "      <td>2.7048</td>\n",
       "      <td>359.0</td>\n",
       "      <td>14.9569</td>\n",
       "      <td>0.0</td>\n",
       "      <td>1014.55</td>\n",
       "      <td>Partly cloudy starting in the morning.</td>\n",
       "    </tr>\n",
       "    <tr>\n",
       "      <th>96435</th>\n",
       "      <td>2016-09-09 06:00:00.000 +0200</td>\n",
       "      <td>Clear</td>\n",
       "      <td>rain</td>\n",
       "      <td>13.872222</td>\n",
       "      <td>13.872222</td>\n",
       "      <td>0.93</td>\n",
       "      <td>4.7495</td>\n",
       "      <td>0.0</td>\n",
       "      <td>15.8263</td>\n",
       "      <td>0.0</td>\n",
       "      <td>1014.66</td>\n",
       "      <td>Partly cloudy starting in the morning.</td>\n",
       "    </tr>\n",
       "    <tr>\n",
       "      <th>96436</th>\n",
       "      <td>2016-09-09 07:00:00.000 +0200</td>\n",
       "      <td>Clear</td>\n",
       "      <td>rain</td>\n",
       "      <td>16.072222</td>\n",
       "      <td>16.072222</td>\n",
       "      <td>0.88</td>\n",
       "      <td>2.7853</td>\n",
       "      <td>12.0</td>\n",
       "      <td>15.7297</td>\n",
       "      <td>0.0</td>\n",
       "      <td>1015.25</td>\n",
       "      <td>Partly cloudy starting in the morning.</td>\n",
       "    </tr>\n",
       "  </tbody>\n",
       "</table>\n",
       "<p>10763 rows × 12 columns</p>\n",
       "</div>"
      ],
      "text/plain": [
       "                      Formatted Date Summary Precip Type  Temperature (C)  \\\n",
       "223    2006-04-18 07:00:00.000 +0200   Clear        rain         8.688889   \n",
       "309    2006-04-20 21:00:00.000 +0200   Clear        rain        12.266667   \n",
       "337    2006-04-22 01:00:00.000 +0200   Clear        rain         9.355556   \n",
       "338    2006-04-22 02:00:00.000 +0200   Clear        rain         9.861111   \n",
       "357    2006-04-22 21:00:00.000 +0200   Clear        rain        12.494444   \n",
       "...                              ...     ...         ...              ...   \n",
       "96432  2016-09-09 03:00:00.000 +0200   Clear        rain        15.594444   \n",
       "96433  2016-09-09 04:00:00.000 +0200   Clear        rain        15.011111   \n",
       "96434  2016-09-09 05:00:00.000 +0200   Clear        rain        15.016667   \n",
       "96435  2016-09-09 06:00:00.000 +0200   Clear        rain        13.872222   \n",
       "96436  2016-09-09 07:00:00.000 +0200   Clear        rain        16.072222   \n",
       "\n",
       "       Apparent Temperature (C)  Humidity  Wind Speed (km/h)  \\\n",
       "223                    8.688889      0.93             1.4329   \n",
       "309                   12.266667      0.99             8.0500   \n",
       "337                    8.633333      0.96             6.4239   \n",
       "338                    9.861111      0.96             3.2361   \n",
       "357                   12.494444      0.91             3.9445   \n",
       "...                         ...       ...                ...   \n",
       "96432                 15.594444      0.87             3.2844   \n",
       "96433                 15.011111      0.93             3.2039   \n",
       "96434                 15.016667      0.90             2.7048   \n",
       "96435                 13.872222      0.93             4.7495   \n",
       "96436                 16.072222      0.88             2.7853   \n",
       "\n",
       "       Wind Bearing (degrees)  Visibility (km)  Loud Cover  \\\n",
       "223                     290.0           5.8443         0.0   \n",
       "309                     320.0           6.1985         0.0   \n",
       "337                     321.0           3.3649         0.0   \n",
       "338                     319.0           4.4597         0.0   \n",
       "357                     197.0           9.9820         0.0   \n",
       "...                       ...              ...         ...   \n",
       "96432                    41.0          15.4399         0.0   \n",
       "96433                   341.0          15.8263         0.0   \n",
       "96434                   359.0          14.9569         0.0   \n",
       "96435                     0.0          15.8263         0.0   \n",
       "96436                    12.0          15.7297         0.0   \n",
       "\n",
       "       Pressure (millibars)                                      Daily Summary  \n",
       "223                 1012.96                         Partly cloudy until night.  \n",
       "309                 1015.76  Foggy starting overnight continuing until morn...  \n",
       "337                 1017.56  Foggy starting overnight continuing until morn...  \n",
       "338                 1016.16  Foggy starting overnight continuing until morn...  \n",
       "357                 1015.51  Foggy starting overnight continuing until morn...  \n",
       "...                     ...                                                ...  \n",
       "96432               1014.52             Partly cloudy starting in the morning.  \n",
       "96433               1014.37             Partly cloudy starting in the morning.  \n",
       "96434               1014.55             Partly cloudy starting in the morning.  \n",
       "96435               1014.66             Partly cloudy starting in the morning.  \n",
       "96436               1015.25             Partly cloudy starting in the morning.  \n",
       "\n",
       "[10763 rows x 12 columns]"
      ]
     },
     "execution_count": 29,
     "metadata": {},
     "output_type": "execute_result"
    }
   ],
   "source": [
    "df.groupby('Summary').get_group('Clear')"
   ]
  },
  {
   "cell_type": "markdown",
   "id": "b4c15efb-c7f6-4e6f-8626-0fbdf962003e",
   "metadata": {},
   "source": [
    "#### Q.2 Find the number of time when the `Wind speed`  is greater than 14km/h'."
   ]
  },
  {
   "cell_type": "code",
   "execution_count": 30,
   "id": "d5a480dc-20ff-4dcf-bf3a-ef465a86115a",
   "metadata": {},
   "outputs": [
    {
     "data": {
      "text/plain": [
       "Formatted Date              25034\n",
       "Summary                     25034\n",
       "Precip Type                 25034\n",
       "Temperature (C)             25034\n",
       "Apparent Temperature (C)    25034\n",
       "Humidity                    25034\n",
       "Wind Speed (km/h)           25034\n",
       "Wind Bearing (degrees)      25034\n",
       "Visibility (km)             25034\n",
       "Loud Cover                  25034\n",
       "Pressure (millibars)        25034\n",
       "Daily Summary               25034\n",
       "dtype: int64"
      ]
     },
     "execution_count": 30,
     "metadata": {},
     "output_type": "execute_result"
    }
   ],
   "source": [
    "df[df['Wind Speed (km/h)']>14].count()"
   ]
  },
  {
   "cell_type": "markdown",
   "id": "4474723a-77d5-48ef-88c4-72cad6816d23",
   "metadata": {},
   "source": [
    "#### Q.5 Rename the column name 'Summary ' of the dataframe to 'Weather condition'."
   ]
  },
  {
   "cell_type": "code",
   "execution_count": 31,
   "id": "d30a9007-d3d8-4acf-9252-092b66cf6f4e",
   "metadata": {},
   "outputs": [
    {
     "data": {
      "text/html": [
       "<div>\n",
       "<style scoped>\n",
       "    .dataframe tbody tr th:only-of-type {\n",
       "        vertical-align: middle;\n",
       "    }\n",
       "\n",
       "    .dataframe tbody tr th {\n",
       "        vertical-align: top;\n",
       "    }\n",
       "\n",
       "    .dataframe thead th {\n",
       "        text-align: right;\n",
       "    }\n",
       "</style>\n",
       "<table border=\"1\" class=\"dataframe\">\n",
       "  <thead>\n",
       "    <tr style=\"text-align: right;\">\n",
       "      <th></th>\n",
       "      <th>Formatted Date</th>\n",
       "      <th>Weather condition</th>\n",
       "      <th>Precip Type</th>\n",
       "      <th>Temperature (C)</th>\n",
       "      <th>Apparent Temperature (C)</th>\n",
       "      <th>Humidity</th>\n",
       "      <th>Wind Speed (km/h)</th>\n",
       "      <th>Wind Bearing (degrees)</th>\n",
       "      <th>Visibility (km)</th>\n",
       "      <th>Loud Cover</th>\n",
       "      <th>Pressure (millibars)</th>\n",
       "      <th>Daily Summary</th>\n",
       "    </tr>\n",
       "  </thead>\n",
       "  <tbody>\n",
       "    <tr>\n",
       "      <th>0</th>\n",
       "      <td>2006-04-01 00:00:00.000 +0200</td>\n",
       "      <td>Partly Cloudy</td>\n",
       "      <td>rain</td>\n",
       "      <td>9.472222</td>\n",
       "      <td>7.388889</td>\n",
       "      <td>0.89</td>\n",
       "      <td>14.1197</td>\n",
       "      <td>251.0</td>\n",
       "      <td>15.8263</td>\n",
       "      <td>0.0</td>\n",
       "      <td>1015.13</td>\n",
       "      <td>Partly cloudy throughout the day.</td>\n",
       "    </tr>\n",
       "    <tr>\n",
       "      <th>1</th>\n",
       "      <td>2006-04-01 01:00:00.000 +0200</td>\n",
       "      <td>Partly Cloudy</td>\n",
       "      <td>rain</td>\n",
       "      <td>9.355556</td>\n",
       "      <td>7.227778</td>\n",
       "      <td>0.86</td>\n",
       "      <td>14.2646</td>\n",
       "      <td>259.0</td>\n",
       "      <td>15.8263</td>\n",
       "      <td>0.0</td>\n",
       "      <td>1015.63</td>\n",
       "      <td>Partly cloudy throughout the day.</td>\n",
       "    </tr>\n",
       "  </tbody>\n",
       "</table>\n",
       "</div>"
      ],
      "text/plain": [
       "                  Formatted Date Weather condition Precip Type  \\\n",
       "0  2006-04-01 00:00:00.000 +0200     Partly Cloudy        rain   \n",
       "1  2006-04-01 01:00:00.000 +0200     Partly Cloudy        rain   \n",
       "\n",
       "   Temperature (C)  Apparent Temperature (C)  Humidity  Wind Speed (km/h)  \\\n",
       "0         9.472222                  7.388889      0.89            14.1197   \n",
       "1         9.355556                  7.227778      0.86            14.2646   \n",
       "\n",
       "   Wind Bearing (degrees)  Visibility (km)  Loud Cover  Pressure (millibars)  \\\n",
       "0                   251.0          15.8263         0.0               1015.13   \n",
       "1                   259.0          15.8263         0.0               1015.63   \n",
       "\n",
       "                       Daily Summary  \n",
       "0  Partly cloudy throughout the day.  \n",
       "1  Partly cloudy throughout the day.  "
      ]
     },
     "execution_count": 31,
     "metadata": {},
     "output_type": "execute_result"
    }
   ],
   "source": [
    "df.rename(columns={'Summary':'Weather condition'}, inplace=True)\n",
    "df.head(2)"
   ]
  },
  {
   "cell_type": "code",
   "execution_count": 32,
   "id": "d6c2629b-4b56-406f-8df2-8ab8bbed641f",
   "metadata": {},
   "outputs": [
    {
     "data": {
      "text/plain": [
       "Index(['Formatted Date', 'Weather condition', 'Precip Type', 'Temperature (C)',\n",
       "       'Apparent Temperature (C)', 'Humidity', 'Wind Speed (km/h)',\n",
       "       'Wind Bearing (degrees)', 'Visibility (km)', 'Loud Cover',\n",
       "       'Pressure (millibars)', 'Daily Summary'],\n",
       "      dtype='object')"
      ]
     },
     "execution_count": 32,
     "metadata": {},
     "output_type": "execute_result"
    }
   ],
   "source": [
    "df.columns"
   ]
  },
  {
   "cell_type": "markdown",
   "id": "6520509a-6178-4436-9ebb-4d67c899d901",
   "metadata": {},
   "source": [
    "#### Q.6 What is the mean `Visibility`?"
   ]
  },
  {
   "cell_type": "code",
   "execution_count": 33,
   "id": "e026c7df-c65e-4d51-85b9-691a7121e2f1",
   "metadata": {},
   "outputs": [
    {
     "data": {
      "text/plain": [
       "np.float64(10.362402441210808)"
      ]
     },
     "execution_count": 33,
     "metadata": {},
     "output_type": "execute_result"
    }
   ],
   "source": [
    "df['Visibility (km)'].mean()"
   ]
  },
  {
   "cell_type": "markdown",
   "id": "3a40b559-a778-4d96-a80c-018a2e36dc5c",
   "metadata": {},
   "source": [
    "#### Q.7 What is the standard deviation of `Pressure` in this data?"
   ]
  },
  {
   "cell_type": "code",
   "execution_count": 34,
   "id": "d5d54c93-30e5-4896-9acd-75fbe5c4246f",
   "metadata": {},
   "outputs": [
    {
     "data": {
      "text/plain": [
       "np.float64(117.2769762618533)"
      ]
     },
     "execution_count": 34,
     "metadata": {},
     "output_type": "execute_result"
    }
   ],
   "source": [
    "df['Pressure (millibars)'].std()"
   ]
  },
  {
   "cell_type": "markdown",
   "id": "a4a14f86-098f-4198-be2c-e282f5f19be0",
   "metadata": {},
   "source": [
    "#### Q.8 What is the variance of `Humidity` in this data?"
   ]
  },
  {
   "cell_type": "code",
   "execution_count": 35,
   "id": "175fea10-c57c-4fbc-9d79-c03b70d6d49a",
   "metadata": {},
   "outputs": [
    {
     "data": {
      "text/plain": [
       "np.float64(0.0383079311270925)"
      ]
     },
     "execution_count": 35,
     "metadata": {},
     "output_type": "execute_result"
    }
   ],
   "source": [
    "df['Humidity'].var()"
   ]
  },
  {
   "cell_type": "markdown",
   "id": "a9cdb278-cfcb-46d8-b7f9-6a800cf8d0fb",
   "metadata": {},
   "source": [
    "#### Q.9 Find all instances when Snow was recorded."
   ]
  },
  {
   "cell_type": "code",
   "execution_count": 36,
   "id": "2a4c0092-501c-44a7-ae5f-9c59f86178c8",
   "metadata": {},
   "outputs": [
    {
     "data": {
      "text/plain": [
       "Weather condition\n",
       "Partly Cloudy                          31635\n",
       "Mostly Cloudy                          27914\n",
       "Overcast                               16516\n",
       "Clear                                  10763\n",
       "Foggy                                   7117\n",
       "Breezy and Overcast                      528\n",
       "Breezy and Mostly Cloudy                 516\n",
       "Breezy and Partly Cloudy                 386\n",
       "Dry and Partly Cloudy                     86\n",
       "Windy and Partly Cloudy                   67\n",
       "Light Rain                                63\n",
       "Breezy                                    54\n",
       "Windy and Overcast                        45\n",
       "Humid and Mostly Cloudy                   40\n",
       "Drizzle                                   39\n",
       "Breezy and Foggy                          35\n",
       "Windy and Mostly Cloudy                   35\n",
       "Dry                                       34\n",
       "Humid and Partly Cloudy                   17\n",
       "Dry and Mostly Cloudy                     14\n",
       "Rain                                      10\n",
       "Windy                                      8\n",
       "Humid and Overcast                         7\n",
       "Windy and Foggy                            4\n",
       "Windy and Dry                              1\n",
       "Dangerously Windy and Partly Cloudy        1\n",
       "Breezy and Dry                             1\n",
       "Name: count, dtype: int64"
      ]
     },
     "execution_count": 36,
     "metadata": {},
     "output_type": "execute_result"
    }
   ],
   "source": [
    "df['Weather condition'].value_counts()"
   ]
  },
  {
   "cell_type": "code",
   "execution_count": 37,
   "id": "3f08691b-2d99-4b02-a564-248309ca39fb",
   "metadata": {},
   "outputs": [
    {
     "data": {
      "text/plain": [
       "Series([], Name: count, dtype: int64)"
      ]
     },
     "execution_count": 37,
     "metadata": {},
     "output_type": "execute_result"
    }
   ],
   "source": [
    "df[df['Daily Summary'].str.contains('snow')].value_counts()"
   ]
  },
  {
   "cell_type": "code",
   "execution_count": 38,
   "id": "d820cab3-33f4-4ae1-b204-b81bfe9d711d",
   "metadata": {},
   "outputs": [
    {
     "data": {
      "text/plain": [
       "Formatted Date              0\n",
       "Weather condition           0\n",
       "Precip Type                 0\n",
       "Temperature (C)             0\n",
       "Apparent Temperature (C)    0\n",
       "Humidity                    0\n",
       "Wind Speed (km/h)           0\n",
       "Wind Bearing (degrees)      0\n",
       "Visibility (km)             0\n",
       "Loud Cover                  0\n",
       "Pressure (millibars)        0\n",
       "Daily Summary               0\n",
       "dtype: int64"
      ]
     },
     "execution_count": 38,
     "metadata": {},
     "output_type": "execute_result"
    }
   ],
   "source": [
    "df[df['Daily Summary'].str.contains('snow')].count()"
   ]
  },
  {
   "cell_type": "markdown",
   "id": "511404d7-cf72-44bc-b82d-ad1c9933f83c",
   "metadata": {},
   "source": [
    "#### Q.10 What is the mean value of each column against each `Weather condition`?"
   ]
  },
  {
   "cell_type": "code",
   "execution_count": 39,
   "id": "e372fbc9-e7a1-4d9d-a31a-fa8c2cb6f8e9",
   "metadata": {},
   "outputs": [
    {
     "data": {
      "text/html": [
       "<div>\n",
       "<style scoped>\n",
       "    .dataframe tbody tr th:only-of-type {\n",
       "        vertical-align: middle;\n",
       "    }\n",
       "\n",
       "    .dataframe tbody tr th {\n",
       "        vertical-align: top;\n",
       "    }\n",
       "\n",
       "    .dataframe thead th {\n",
       "        text-align: right;\n",
       "    }\n",
       "</style>\n",
       "<table border=\"1\" class=\"dataframe\">\n",
       "  <thead>\n",
       "    <tr style=\"text-align: right;\">\n",
       "      <th></th>\n",
       "      <th>Temperature (C)</th>\n",
       "      <th>Apparent Temperature (C)</th>\n",
       "      <th>Humidity</th>\n",
       "      <th>Wind Speed (km/h)</th>\n",
       "      <th>Wind Bearing (degrees)</th>\n",
       "      <th>Visibility (km)</th>\n",
       "      <th>Loud Cover</th>\n",
       "      <th>Pressure (millibars)</th>\n",
       "    </tr>\n",
       "    <tr>\n",
       "      <th>Weather condition</th>\n",
       "      <th></th>\n",
       "      <th></th>\n",
       "      <th></th>\n",
       "      <th></th>\n",
       "      <th></th>\n",
       "      <th></th>\n",
       "      <th></th>\n",
       "      <th></th>\n",
       "    </tr>\n",
       "  </thead>\n",
       "  <tbody>\n",
       "    <tr>\n",
       "      <th>Breezy</th>\n",
       "      <td>7.922016</td>\n",
       "      <td>3.387654</td>\n",
       "      <td>0.637778</td>\n",
       "      <td>32.143948</td>\n",
       "      <td>233.018519</td>\n",
       "      <td>9.577115</td>\n",
       "      <td>0.0</td>\n",
       "      <td>563.917593</td>\n",
       "    </tr>\n",
       "    <tr>\n",
       "      <th>Breezy and Dry</th>\n",
       "      <td>21.111111</td>\n",
       "      <td>21.111111</td>\n",
       "      <td>0.260000</td>\n",
       "      <td>33.810000</td>\n",
       "      <td>240.000000</td>\n",
       "      <td>9.982000</td>\n",
       "      <td>0.0</td>\n",
       "      <td>1021.600000</td>\n",
       "    </tr>\n",
       "    <tr>\n",
       "      <th>Breezy and Foggy</th>\n",
       "      <td>-0.510317</td>\n",
       "      <td>-7.403492</td>\n",
       "      <td>0.938571</td>\n",
       "      <td>33.477880</td>\n",
       "      <td>160.628571</td>\n",
       "      <td>1.621960</td>\n",
       "      <td>0.0</td>\n",
       "      <td>1008.934000</td>\n",
       "    </tr>\n",
       "    <tr>\n",
       "      <th>Breezy and Mostly Cloudy</th>\n",
       "      <td>11.093411</td>\n",
       "      <td>8.680588</td>\n",
       "      <td>0.637054</td>\n",
       "      <td>33.386345</td>\n",
       "      <td>227.639535</td>\n",
       "      <td>11.478302</td>\n",
       "      <td>0.0</td>\n",
       "      <td>1000.622984</td>\n",
       "    </tr>\n",
       "    <tr>\n",
       "      <th>Breezy and Overcast</th>\n",
       "      <td>7.241614</td>\n",
       "      <td>3.492235</td>\n",
       "      <td>0.763144</td>\n",
       "      <td>33.037566</td>\n",
       "      <td>213.526515</td>\n",
       "      <td>11.067012</td>\n",
       "      <td>0.0</td>\n",
       "      <td>1002.114924</td>\n",
       "    </tr>\n",
       "  </tbody>\n",
       "</table>\n",
       "</div>"
      ],
      "text/plain": [
       "                          Temperature (C)  Apparent Temperature (C)  Humidity  \\\n",
       "Weather condition                                                               \n",
       "Breezy                           7.922016                  3.387654  0.637778   \n",
       "Breezy and Dry                  21.111111                 21.111111  0.260000   \n",
       "Breezy and Foggy                -0.510317                 -7.403492  0.938571   \n",
       "Breezy and Mostly Cloudy        11.093411                  8.680588  0.637054   \n",
       "Breezy and Overcast              7.241614                  3.492235  0.763144   \n",
       "\n",
       "                          Wind Speed (km/h)  Wind Bearing (degrees)  \\\n",
       "Weather condition                                                     \n",
       "Breezy                            32.143948              233.018519   \n",
       "Breezy and Dry                    33.810000              240.000000   \n",
       "Breezy and Foggy                  33.477880              160.628571   \n",
       "Breezy and Mostly Cloudy          33.386345              227.639535   \n",
       "Breezy and Overcast               33.037566              213.526515   \n",
       "\n",
       "                          Visibility (km)  Loud Cover  Pressure (millibars)  \n",
       "Weather condition                                                            \n",
       "Breezy                           9.577115         0.0            563.917593  \n",
       "Breezy and Dry                   9.982000         0.0           1021.600000  \n",
       "Breezy and Foggy                 1.621960         0.0           1008.934000  \n",
       "Breezy and Mostly Cloudy        11.478302         0.0           1000.622984  \n",
       "Breezy and Overcast             11.067012         0.0           1002.114924  "
      ]
     },
     "execution_count": 39,
     "metadata": {},
     "output_type": "execute_result"
    }
   ],
   "source": [
    "df.groupby('Weather condition').mean(numeric_only=True).head(5)"
   ]
  },
  {
   "cell_type": "code",
   "execution_count": null,
   "id": "d1fd7d67-c7fd-4407-ac06-972cc10c3b50",
   "metadata": {},
   "outputs": [],
   "source": []
  },
  {
   "cell_type": "markdown",
   "id": "c5d110b0-2912-445f-ab21-7d3a7fd4bbde",
   "metadata": {},
   "source": [
    "#### Q.11 Find all instances when `Wind speed` is above 24 and `Visibility` is less than 25."
   ]
  },
  {
   "cell_type": "code",
   "execution_count": 40,
   "id": "90f6ed80-b1fc-4653-9980-a97cf26ea3cb",
   "metadata": {},
   "outputs": [
    {
     "data": {
      "text/html": [
       "<div>\n",
       "<style scoped>\n",
       "    .dataframe tbody tr th:only-of-type {\n",
       "        vertical-align: middle;\n",
       "    }\n",
       "\n",
       "    .dataframe tbody tr th {\n",
       "        vertical-align: top;\n",
       "    }\n",
       "\n",
       "    .dataframe thead th {\n",
       "        text-align: right;\n",
       "    }\n",
       "</style>\n",
       "<table border=\"1\" class=\"dataframe\">\n",
       "  <thead>\n",
       "    <tr style=\"text-align: right;\">\n",
       "      <th></th>\n",
       "      <th>Formatted Date</th>\n",
       "      <th>Weather condition</th>\n",
       "      <th>Precip Type</th>\n",
       "      <th>Temperature (C)</th>\n",
       "      <th>Apparent Temperature (C)</th>\n",
       "      <th>Humidity</th>\n",
       "      <th>Wind Speed (km/h)</th>\n",
       "      <th>Wind Bearing (degrees)</th>\n",
       "      <th>Visibility (km)</th>\n",
       "      <th>Loud Cover</th>\n",
       "      <th>Pressure (millibars)</th>\n",
       "      <th>Daily Summary</th>\n",
       "    </tr>\n",
       "  </thead>\n",
       "  <tbody>\n",
       "    <tr>\n",
       "      <th>37</th>\n",
       "      <td>2006-04-10 13:00:00.000 +0200</td>\n",
       "      <td>Mostly Cloudy</td>\n",
       "      <td>rain</td>\n",
       "      <td>20.044444</td>\n",
       "      <td>20.044444</td>\n",
       "      <td>0.40</td>\n",
       "      <td>28.3682</td>\n",
       "      <td>170.0</td>\n",
       "      <td>9.9820</td>\n",
       "      <td>0.0</td>\n",
       "      <td>1012.22</td>\n",
       "      <td>Mostly cloudy throughout the day.</td>\n",
       "    </tr>\n",
       "    <tr>\n",
       "      <th>38</th>\n",
       "      <td>2006-04-10 14:00:00.000 +0200</td>\n",
       "      <td>Mostly Cloudy</td>\n",
       "      <td>rain</td>\n",
       "      <td>21.050000</td>\n",
       "      <td>21.050000</td>\n",
       "      <td>0.40</td>\n",
       "      <td>26.9031</td>\n",
       "      <td>187.0</td>\n",
       "      <td>10.3523</td>\n",
       "      <td>0.0</td>\n",
       "      <td>1011.44</td>\n",
       "      <td>Mostly cloudy throughout the day.</td>\n",
       "    </tr>\n",
       "    <tr>\n",
       "      <th>39</th>\n",
       "      <td>2006-04-10 15:00:00.000 +0200</td>\n",
       "      <td>Mostly Cloudy</td>\n",
       "      <td>rain</td>\n",
       "      <td>21.183333</td>\n",
       "      <td>21.183333</td>\n",
       "      <td>0.37</td>\n",
       "      <td>25.6956</td>\n",
       "      <td>179.0</td>\n",
       "      <td>9.9820</td>\n",
       "      <td>0.0</td>\n",
       "      <td>1010.52</td>\n",
       "      <td>Mostly cloudy throughout the day.</td>\n",
       "    </tr>\n",
       "    <tr>\n",
       "      <th>40</th>\n",
       "      <td>2006-04-10 16:00:00.000 +0200</td>\n",
       "      <td>Mostly Cloudy</td>\n",
       "      <td>rain</td>\n",
       "      <td>20.116667</td>\n",
       "      <td>20.116667</td>\n",
       "      <td>0.40</td>\n",
       "      <td>25.3092</td>\n",
       "      <td>162.0</td>\n",
       "      <td>9.9820</td>\n",
       "      <td>0.0</td>\n",
       "      <td>1009.83</td>\n",
       "      <td>Mostly cloudy throughout the day.</td>\n",
       "    </tr>\n",
       "    <tr>\n",
       "      <th>67</th>\n",
       "      <td>2006-04-11 19:00:00.000 +0200</td>\n",
       "      <td>Foggy</td>\n",
       "      <td>rain</td>\n",
       "      <td>8.800000</td>\n",
       "      <td>5.294444</td>\n",
       "      <td>0.99</td>\n",
       "      <td>26.5006</td>\n",
       "      <td>339.0</td>\n",
       "      <td>2.6565</td>\n",
       "      <td>0.0</td>\n",
       "      <td>1004.99</td>\n",
       "      <td>Foggy in the evening.</td>\n",
       "    </tr>\n",
       "    <tr>\n",
       "      <th>...</th>\n",
       "      <td>...</td>\n",
       "      <td>...</td>\n",
       "      <td>...</td>\n",
       "      <td>...</td>\n",
       "      <td>...</td>\n",
       "      <td>...</td>\n",
       "      <td>...</td>\n",
       "      <td>...</td>\n",
       "      <td>...</td>\n",
       "      <td>...</td>\n",
       "      <td>...</td>\n",
       "      <td>...</td>\n",
       "    </tr>\n",
       "    <tr>\n",
       "      <th>95940</th>\n",
       "      <td>2016-09-17 15:00:00.000 +0200</td>\n",
       "      <td>Breezy and Mostly Cloudy</td>\n",
       "      <td>rain</td>\n",
       "      <td>27.522222</td>\n",
       "      <td>27.766667</td>\n",
       "      <td>0.48</td>\n",
       "      <td>29.4469</td>\n",
       "      <td>260.0</td>\n",
       "      <td>9.9820</td>\n",
       "      <td>0.0</td>\n",
       "      <td>1008.80</td>\n",
       "      <td>Partly cloudy throughout the day.</td>\n",
       "    </tr>\n",
       "    <tr>\n",
       "      <th>96030</th>\n",
       "      <td>2016-09-20 09:00:00.000 +0200</td>\n",
       "      <td>Mostly Cloudy</td>\n",
       "      <td>rain</td>\n",
       "      <td>16.044444</td>\n",
       "      <td>16.044444</td>\n",
       "      <td>0.72</td>\n",
       "      <td>26.2913</td>\n",
       "      <td>350.0</td>\n",
       "      <td>16.1000</td>\n",
       "      <td>0.0</td>\n",
       "      <td>1008.74</td>\n",
       "      <td>Mostly cloudy throughout the day.</td>\n",
       "    </tr>\n",
       "    <tr>\n",
       "      <th>96031</th>\n",
       "      <td>2016-09-20 10:00:00.000 +0200</td>\n",
       "      <td>Partly Cloudy</td>\n",
       "      <td>rain</td>\n",
       "      <td>17.200000</td>\n",
       "      <td>17.200000</td>\n",
       "      <td>0.63</td>\n",
       "      <td>25.1160</td>\n",
       "      <td>0.0</td>\n",
       "      <td>9.9820</td>\n",
       "      <td>0.0</td>\n",
       "      <td>1009.32</td>\n",
       "      <td>Mostly cloudy throughout the day.</td>\n",
       "    </tr>\n",
       "    <tr>\n",
       "      <th>96032</th>\n",
       "      <td>2016-09-20 11:00:00.000 +0200</td>\n",
       "      <td>Partly Cloudy</td>\n",
       "      <td>rain</td>\n",
       "      <td>17.277778</td>\n",
       "      <td>17.277778</td>\n",
       "      <td>0.70</td>\n",
       "      <td>24.1661</td>\n",
       "      <td>1.0</td>\n",
       "      <td>10.3523</td>\n",
       "      <td>0.0</td>\n",
       "      <td>1010.12</td>\n",
       "      <td>Mostly cloudy throughout the day.</td>\n",
       "    </tr>\n",
       "    <tr>\n",
       "      <th>96343</th>\n",
       "      <td>2016-09-05 10:00:00.000 +0200</td>\n",
       "      <td>Breezy and Overcast</td>\n",
       "      <td>rain</td>\n",
       "      <td>17.616667</td>\n",
       "      <td>17.616667</td>\n",
       "      <td>0.90</td>\n",
       "      <td>30.9764</td>\n",
       "      <td>330.0</td>\n",
       "      <td>9.8532</td>\n",
       "      <td>0.0</td>\n",
       "      <td>1012.61</td>\n",
       "      <td>Mostly cloudy throughout the day.</td>\n",
       "    </tr>\n",
       "  </tbody>\n",
       "</table>\n",
       "<p>5273 rows × 12 columns</p>\n",
       "</div>"
      ],
      "text/plain": [
       "                      Formatted Date         Weather condition Precip Type  \\\n",
       "37     2006-04-10 13:00:00.000 +0200             Mostly Cloudy        rain   \n",
       "38     2006-04-10 14:00:00.000 +0200             Mostly Cloudy        rain   \n",
       "39     2006-04-10 15:00:00.000 +0200             Mostly Cloudy        rain   \n",
       "40     2006-04-10 16:00:00.000 +0200             Mostly Cloudy        rain   \n",
       "67     2006-04-11 19:00:00.000 +0200                     Foggy        rain   \n",
       "...                              ...                       ...         ...   \n",
       "95940  2016-09-17 15:00:00.000 +0200  Breezy and Mostly Cloudy        rain   \n",
       "96030  2016-09-20 09:00:00.000 +0200             Mostly Cloudy        rain   \n",
       "96031  2016-09-20 10:00:00.000 +0200             Partly Cloudy        rain   \n",
       "96032  2016-09-20 11:00:00.000 +0200             Partly Cloudy        rain   \n",
       "96343  2016-09-05 10:00:00.000 +0200       Breezy and Overcast        rain   \n",
       "\n",
       "       Temperature (C)  Apparent Temperature (C)  Humidity  Wind Speed (km/h)  \\\n",
       "37           20.044444                 20.044444      0.40            28.3682   \n",
       "38           21.050000                 21.050000      0.40            26.9031   \n",
       "39           21.183333                 21.183333      0.37            25.6956   \n",
       "40           20.116667                 20.116667      0.40            25.3092   \n",
       "67            8.800000                  5.294444      0.99            26.5006   \n",
       "...                ...                       ...       ...                ...   \n",
       "95940        27.522222                 27.766667      0.48            29.4469   \n",
       "96030        16.044444                 16.044444      0.72            26.2913   \n",
       "96031        17.200000                 17.200000      0.63            25.1160   \n",
       "96032        17.277778                 17.277778      0.70            24.1661   \n",
       "96343        17.616667                 17.616667      0.90            30.9764   \n",
       "\n",
       "       Wind Bearing (degrees)  Visibility (km)  Loud Cover  \\\n",
       "37                      170.0           9.9820         0.0   \n",
       "38                      187.0          10.3523         0.0   \n",
       "39                      179.0           9.9820         0.0   \n",
       "40                      162.0           9.9820         0.0   \n",
       "67                      339.0           2.6565         0.0   \n",
       "...                       ...              ...         ...   \n",
       "95940                   260.0           9.9820         0.0   \n",
       "96030                   350.0          16.1000         0.0   \n",
       "96031                     0.0           9.9820         0.0   \n",
       "96032                     1.0          10.3523         0.0   \n",
       "96343                   330.0           9.8532         0.0   \n",
       "\n",
       "       Pressure (millibars)                      Daily Summary  \n",
       "37                  1012.22  Mostly cloudy throughout the day.  \n",
       "38                  1011.44  Mostly cloudy throughout the day.  \n",
       "39                  1010.52  Mostly cloudy throughout the day.  \n",
       "40                  1009.83  Mostly cloudy throughout the day.  \n",
       "67                  1004.99              Foggy in the evening.  \n",
       "...                     ...                                ...  \n",
       "95940               1008.80  Partly cloudy throughout the day.  \n",
       "96030               1008.74  Mostly cloudy throughout the day.  \n",
       "96031               1009.32  Mostly cloudy throughout the day.  \n",
       "96032               1010.12  Mostly cloudy throughout the day.  \n",
       "96343               1012.61  Mostly cloudy throughout the day.  \n",
       "\n",
       "[5273 rows x 12 columns]"
      ]
     },
     "execution_count": 40,
     "metadata": {},
     "output_type": "execute_result"
    }
   ],
   "source": [
    "df[(df['Wind Speed (km/h)']>24) & (df['Visibility (km)']<25)]"
   ]
  },
  {
   "cell_type": "markdown",
   "id": "ca289eee-4e48-482f-91dd-0ed23ea07efb",
   "metadata": {},
   "source": [
    "#### Q.12 Show All the records where `Weather condition` is Foggy."
   ]
  },
  {
   "cell_type": "code",
   "execution_count": 41,
   "id": "2e48517b-ff7c-49c3-9769-a824ae9fadaf",
   "metadata": {},
   "outputs": [
    {
     "data": {
      "text/plain": [
       "Formatted Date              7117\n",
       "Weather condition           7117\n",
       "Precip Type                 7117\n",
       "Temperature (C)             7117\n",
       "Apparent Temperature (C)    7117\n",
       "Humidity                    7117\n",
       "Wind Speed (km/h)           7117\n",
       "Wind Bearing (degrees)      7117\n",
       "Visibility (km)             7117\n",
       "Loud Cover                  7117\n",
       "Pressure (millibars)        7117\n",
       "Daily Summary               7117\n",
       "dtype: int64"
      ]
     },
     "execution_count": 41,
     "metadata": {},
     "output_type": "execute_result"
    }
   ],
   "source": [
    "df[df['Weather condition']=='Foggy'].count() # not always a correct answer"
   ]
  },
  {
   "cell_type": "code",
   "execution_count": 42,
   "id": "f760f26d-a363-4685-a306-e0f426ee177f",
   "metadata": {},
   "outputs": [
    {
     "data": {
      "text/plain": [
       "Formatted Date              7156\n",
       "Weather condition           7156\n",
       "Precip Type                 7156\n",
       "Temperature (C)             7156\n",
       "Apparent Temperature (C)    7156\n",
       "Humidity                    7156\n",
       "Wind Speed (km/h)           7156\n",
       "Wind Bearing (degrees)      7156\n",
       "Visibility (km)             7156\n",
       "Loud Cover                  7156\n",
       "Pressure (millibars)        7156\n",
       "Daily Summary               7156\n",
       "dtype: int64"
      ]
     },
     "execution_count": 42,
     "metadata": {},
     "output_type": "execute_result"
    }
   ],
   "source": [
    "df[df['Weather condition'].str.contains('Foggy')].count() # this is more accurate"
   ]
  },
  {
   "cell_type": "code",
   "execution_count": null,
   "id": "494fb30c-e3e7-4e49-b361-e3e39f10a0ff",
   "metadata": {},
   "outputs": [],
   "source": []
  },
  {
   "cell_type": "markdown",
   "id": "51a55cf3-1986-4247-afb6-a678db79a312",
   "metadata": {},
   "source": [
    "#### Q.13 What is minimum and maximum value of each column against each `Weather condition`"
   ]
  },
  {
   "cell_type": "code",
   "execution_count": 43,
   "id": "aeff0c23-07f3-4cc7-8384-7bd26c4a6d25",
   "metadata": {},
   "outputs": [
    {
     "data": {
      "text/html": [
       "<div>\n",
       "<style scoped>\n",
       "    .dataframe tbody tr th:only-of-type {\n",
       "        vertical-align: middle;\n",
       "    }\n",
       "\n",
       "    .dataframe tbody tr th {\n",
       "        vertical-align: top;\n",
       "    }\n",
       "\n",
       "    .dataframe thead th {\n",
       "        text-align: right;\n",
       "    }\n",
       "</style>\n",
       "<table border=\"1\" class=\"dataframe\">\n",
       "  <thead>\n",
       "    <tr style=\"text-align: right;\">\n",
       "      <th></th>\n",
       "      <th>Formatted Date</th>\n",
       "      <th>Precip Type</th>\n",
       "      <th>Temperature (C)</th>\n",
       "      <th>Apparent Temperature (C)</th>\n",
       "      <th>Humidity</th>\n",
       "      <th>Wind Speed (km/h)</th>\n",
       "      <th>Wind Bearing (degrees)</th>\n",
       "      <th>Visibility (km)</th>\n",
       "      <th>Loud Cover</th>\n",
       "      <th>Pressure (millibars)</th>\n",
       "      <th>Daily Summary</th>\n",
       "    </tr>\n",
       "    <tr>\n",
       "      <th>Weather condition</th>\n",
       "      <th></th>\n",
       "      <th></th>\n",
       "      <th></th>\n",
       "      <th></th>\n",
       "      <th></th>\n",
       "      <th></th>\n",
       "      <th></th>\n",
       "      <th></th>\n",
       "      <th></th>\n",
       "      <th></th>\n",
       "      <th></th>\n",
       "    </tr>\n",
       "  </thead>\n",
       "  <tbody>\n",
       "    <tr>\n",
       "      <th>Breezy</th>\n",
       "      <td>2016-08-05 10:00:00.000 +0200</td>\n",
       "      <td>snow</td>\n",
       "      <td>37.588889</td>\n",
       "      <td>35.700000</td>\n",
       "      <td>0.82</td>\n",
       "      <td>38.2697</td>\n",
       "      <td>350.0</td>\n",
       "      <td>16.100</td>\n",
       "      <td>0.0</td>\n",
       "      <td>1030.19</td>\n",
       "      <td>Windy in the afternoon.</td>\n",
       "    </tr>\n",
       "    <tr>\n",
       "      <th>Breezy and Dry</th>\n",
       "      <td>2012-03-18 11:00:00.000 +0100</td>\n",
       "      <td>rain</td>\n",
       "      <td>21.111111</td>\n",
       "      <td>21.111111</td>\n",
       "      <td>0.26</td>\n",
       "      <td>33.8100</td>\n",
       "      <td>240.0</td>\n",
       "      <td>9.982</td>\n",
       "      <td>0.0</td>\n",
       "      <td>1021.60</td>\n",
       "      <td>Partly cloudy starting in the afternoon.</td>\n",
       "    </tr>\n",
       "  </tbody>\n",
       "</table>\n",
       "</div>"
      ],
      "text/plain": [
       "                                  Formatted Date Precip Type  Temperature (C)  \\\n",
       "Weather condition                                                               \n",
       "Breezy             2016-08-05 10:00:00.000 +0200        snow        37.588889   \n",
       "Breezy and Dry     2012-03-18 11:00:00.000 +0100        rain        21.111111   \n",
       "\n",
       "                   Apparent Temperature (C)  Humidity  Wind Speed (km/h)  \\\n",
       "Weather condition                                                          \n",
       "Breezy                            35.700000      0.82            38.2697   \n",
       "Breezy and Dry                    21.111111      0.26            33.8100   \n",
       "\n",
       "                   Wind Bearing (degrees)  Visibility (km)  Loud Cover  \\\n",
       "Weather condition                                                        \n",
       "Breezy                              350.0           16.100         0.0   \n",
       "Breezy and Dry                      240.0            9.982         0.0   \n",
       "\n",
       "                   Pressure (millibars)  \\\n",
       "Weather condition                         \n",
       "Breezy                          1030.19   \n",
       "Breezy and Dry                  1021.60   \n",
       "\n",
       "                                              Daily Summary  \n",
       "Weather condition                                            \n",
       "Breezy                              Windy in the afternoon.  \n",
       "Breezy and Dry     Partly cloudy starting in the afternoon.  "
      ]
     },
     "execution_count": 43,
     "metadata": {},
     "output_type": "execute_result"
    }
   ],
   "source": [
    "# df.groupby('Weather condition').min()\n",
    "df.groupby('Weather condition').max().head(2)"
   ]
  },
  {
   "cell_type": "markdown",
   "id": "b8201084-60e1-4d29-a3c9-6b65c54cec65",
   "metadata": {},
   "source": [
    "#### Q.15 Find all instances when the `Weather` is clear and `Humidity` is less than 0.4 or `Visibility` is above 20."
   ]
  },
  {
   "cell_type": "code",
   "execution_count": 44,
   "id": "a8483917-00ce-432e-9014-56c8c8bdf91a",
   "metadata": {},
   "outputs": [
    {
     "data": {
      "text/html": [
       "<div>\n",
       "<style scoped>\n",
       "    .dataframe tbody tr th:only-of-type {\n",
       "        vertical-align: middle;\n",
       "    }\n",
       "\n",
       "    .dataframe tbody tr th {\n",
       "        vertical-align: top;\n",
       "    }\n",
       "\n",
       "    .dataframe thead th {\n",
       "        text-align: right;\n",
       "    }\n",
       "</style>\n",
       "<table border=\"1\" class=\"dataframe\">\n",
       "  <thead>\n",
       "    <tr style=\"text-align: right;\">\n",
       "      <th></th>\n",
       "      <th>Formatted Date</th>\n",
       "      <th>Weather condition</th>\n",
       "      <th>Precip Type</th>\n",
       "      <th>Temperature (C)</th>\n",
       "      <th>Apparent Temperature (C)</th>\n",
       "      <th>Humidity</th>\n",
       "      <th>Wind Speed (km/h)</th>\n",
       "      <th>Wind Bearing (degrees)</th>\n",
       "      <th>Visibility (km)</th>\n",
       "      <th>Loud Cover</th>\n",
       "      <th>Pressure (millibars)</th>\n",
       "      <th>Daily Summary</th>\n",
       "    </tr>\n",
       "  </thead>\n",
       "  <tbody>\n",
       "    <tr>\n",
       "      <th>927</th>\n",
       "      <td>2006-08-17 15:00:00.000 +0200</td>\n",
       "      <td>Clear</td>\n",
       "      <td>rain</td>\n",
       "      <td>31.133333</td>\n",
       "      <td>30.600000</td>\n",
       "      <td>0.36</td>\n",
       "      <td>11.1734</td>\n",
       "      <td>160.0</td>\n",
       "      <td>16.0517</td>\n",
       "      <td>0.0</td>\n",
       "      <td>1011.95</td>\n",
       "      <td>Partly cloudy until morning.</td>\n",
       "    </tr>\n",
       "    <tr>\n",
       "      <th>1192</th>\n",
       "      <td>2006-08-27 16:00:00.000 +0200</td>\n",
       "      <td>Clear</td>\n",
       "      <td>rain</td>\n",
       "      <td>26.111111</td>\n",
       "      <td>26.111111</td>\n",
       "      <td>0.39</td>\n",
       "      <td>4.3148</td>\n",
       "      <td>108.0</td>\n",
       "      <td>9.9820</td>\n",
       "      <td>0.0</td>\n",
       "      <td>0.00</td>\n",
       "      <td>Partly cloudy until afternoon.</td>\n",
       "    </tr>\n",
       "    <tr>\n",
       "      <th>3687</th>\n",
       "      <td>2006-07-11 15:00:00.000 +0200</td>\n",
       "      <td>Clear</td>\n",
       "      <td>rain</td>\n",
       "      <td>30.116667</td>\n",
       "      <td>29.505556</td>\n",
       "      <td>0.37</td>\n",
       "      <td>1.1914</td>\n",
       "      <td>300.0</td>\n",
       "      <td>11.2056</td>\n",
       "      <td>0.0</td>\n",
       "      <td>1020.78</td>\n",
       "      <td>Partly cloudy starting in the afternoon.</td>\n",
       "    </tr>\n",
       "    <tr>\n",
       "      <th>3709</th>\n",
       "      <td>2006-07-12 13:00:00.000 +0200</td>\n",
       "      <td>Clear</td>\n",
       "      <td>rain</td>\n",
       "      <td>30.000000</td>\n",
       "      <td>29.200000</td>\n",
       "      <td>0.35</td>\n",
       "      <td>11.0446</td>\n",
       "      <td>50.0</td>\n",
       "      <td>9.9820</td>\n",
       "      <td>0.0</td>\n",
       "      <td>0.00</td>\n",
       "      <td>Partly cloudy until night.</td>\n",
       "    </tr>\n",
       "    <tr>\n",
       "      <th>3736</th>\n",
       "      <td>2006-07-13 16:00:00.000 +0200</td>\n",
       "      <td>Clear</td>\n",
       "      <td>rain</td>\n",
       "      <td>30.972222</td>\n",
       "      <td>30.311111</td>\n",
       "      <td>0.36</td>\n",
       "      <td>14.0070</td>\n",
       "      <td>19.0</td>\n",
       "      <td>11.2056</td>\n",
       "      <td>0.0</td>\n",
       "      <td>1016.23</td>\n",
       "      <td>Partly cloudy until night.</td>\n",
       "    </tr>\n",
       "  </tbody>\n",
       "</table>\n",
       "</div>"
      ],
      "text/plain": [
       "                     Formatted Date Weather condition Precip Type  \\\n",
       "927   2006-08-17 15:00:00.000 +0200             Clear        rain   \n",
       "1192  2006-08-27 16:00:00.000 +0200             Clear        rain   \n",
       "3687  2006-07-11 15:00:00.000 +0200             Clear        rain   \n",
       "3709  2006-07-12 13:00:00.000 +0200             Clear        rain   \n",
       "3736  2006-07-13 16:00:00.000 +0200             Clear        rain   \n",
       "\n",
       "      Temperature (C)  Apparent Temperature (C)  Humidity  Wind Speed (km/h)  \\\n",
       "927         31.133333                 30.600000      0.36            11.1734   \n",
       "1192        26.111111                 26.111111      0.39             4.3148   \n",
       "3687        30.116667                 29.505556      0.37             1.1914   \n",
       "3709        30.000000                 29.200000      0.35            11.0446   \n",
       "3736        30.972222                 30.311111      0.36            14.0070   \n",
       "\n",
       "      Wind Bearing (degrees)  Visibility (km)  Loud Cover  \\\n",
       "927                    160.0          16.0517         0.0   \n",
       "1192                   108.0           9.9820         0.0   \n",
       "3687                   300.0          11.2056         0.0   \n",
       "3709                    50.0           9.9820         0.0   \n",
       "3736                    19.0          11.2056         0.0   \n",
       "\n",
       "      Pressure (millibars)                             Daily Summary  \n",
       "927                1011.95              Partly cloudy until morning.  \n",
       "1192                  0.00            Partly cloudy until afternoon.  \n",
       "3687               1020.78  Partly cloudy starting in the afternoon.  \n",
       "3709                  0.00                Partly cloudy until night.  \n",
       "3736               1016.23                Partly cloudy until night.  "
      ]
     },
     "execution_count": 44,
     "metadata": {},
     "output_type": "execute_result"
    }
   ],
   "source": [
    "df[(df['Weather condition']=='Clear') & (df['Humidity'] <0.4) | (df['Visibility (km)']> 20)].head()"
   ]
  },
  {
   "cell_type": "code",
   "execution_count": null,
   "id": "1546a073-b063-45a4-a0ec-c1b716b6e4f2",
   "metadata": {},
   "outputs": [],
   "source": []
  },
  {
   "cell_type": "markdown",
   "id": "bc8f5f21-e019-4382-8e15-ffd10e98f8ba",
   "metadata": {},
   "source": [
    "### Visualization "
   ]
  },
  {
   "cell_type": "code",
   "execution_count": 45,
   "id": "3b94f597-f9a0-499f-99de-b3b2e48bf524",
   "metadata": {},
   "outputs": [
    {
     "data": {
      "image/png": "[encoded data removed]",
      "text/plain": [
       "<Figure size 800x500 with 1 Axes>"
      ]
     },
     "metadata": {},
     "output_type": "display_data"
    }
   ],
   "source": [
    "plt.figure(figsize=(8, 5))\n",
    "sns.countplot(x='Precip Type', data=df)\n",
    "plt.title('Distribution of precipitation types')\n",
    "plt.xlabel('Precipitation type')\n",
    "plt.ylabel('Count')\n",
    "plt.xticks(rotation=45)\n",
    "plt.tight_layout()\n",
    "plt.show()"
   ]
  },
  {
   "cell_type": "code",
   "execution_count": 46,
   "id": "262648f3-c623-43bb-950e-2324b6bbe6c8",
   "metadata": {},
   "outputs": [
    {
     "data": {
      "image/png": "[encoded data removed]",
      "text/plain": [
       "<Figure size 800x500 with 2 Axes>"
      ]
     },
     "metadata": {},
     "output_type": "display_data"
    }
   ],
   "source": [
    "# Select only numeric columns\n",
    "numeric_df = df.select_dtypes(include=[np.number])\n",
    "\n",
    "# Plot correlation heatmap\n",
    "plt.figure(figsize=(8, 5))\n",
    "sns.heatmap(numeric_df.corr(), annot=True, cmap='coolwarm')\n",
    "plt.title('Correlation Heatmap')\n",
    "plt.show()"
   ]
  },
  {
   "cell_type": "code",
   "execution_count": 47,
   "id": "62966a00-6c2a-4b66-8674-4b0ce969a4a2",
   "metadata": {},
   "outputs": [
    {
     "data": {
      "image/png": "[encoded data removed]",
      "text/plain": [
       "<Figure size 800x500 with 1 Axes>"
      ]
     },
     "metadata": {},
     "output_type": "display_data"
    }
   ],
   "source": [
    "# Plot Temperature vs Apparent Temperature\n",
    "plt.figure(figsize=(8, 5))\n",
    "plt.scatter(df['Temperature (C)'], df['Apparent Temperature (C)'])\n",
    "\n",
    "# Add y=x line\n",
    "temp_range = np.array([df['Temperature (C)'].min(), df['Temperature (C)'].max()])\n",
    "plt.plot(temp_range, temp_range, 'r--', label='y=x')\n",
    "\n",
    "plt.title('Temperature vs Apparent Temperature')\n",
    "plt.xlabel('Temperature (C)')\n",
    "plt.ylabel('Apparent Temperature (C)')\n",
    "plt.legend()\n",
    "plt.show()"
   ]
  },
  {
   "cell_type": "code",
   "execution_count": null,
   "id": "6f8b53de-dfd6-4474-8e4d-2a4672580a12",
   "metadata": {},
   "outputs": [],
   "source": []
  }
 ],
 "metadata": {
  "kernelspec": {
   "display_name": "Python 3 (ipykernel)",
   "language": "python",
   "name": "python3"
  },
  "language_info": {
   "codemirror_mode": {
    "name": "ipython",
    "version": 3
   },
   "file_extension": ".py",
   "mimetype": "text/x-python",
   "name": "python",
   "nbconvert_exporter": "python",
   "pygments_lexer": "ipython3",
   "version": "3.13.1"
  }
 },
 "nbformat": 4,
 "nbformat_minor": 5
}
